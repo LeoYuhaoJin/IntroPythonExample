{
 "cells": [
  {
   "cell_type": "markdown",
   "metadata": {
    "id": "z4YPIlu2HI7F"
   },
   "source": [
    "# Error handling\n",
    "## Errors\n",
    "\n",
    "By now, we have seen several pieces of code that have failed to run. In that case, Python does not only raise an error, but also specifies what exactly went wrong."
   ]
  },
  {
   "cell_type": "code",
   "execution_count": 1,
   "metadata": {
    "colab": {
     "base_uri": "https://localhost:8080/",
     "height": 133
    },
    "id": "F1GYYda3HJxJ",
    "outputId": "e39d84fa-0223-44bf-cf3f-ca019b01793a"
   },
   "outputs": [
    {
     "ename": "SyntaxError",
     "evalue": "incomplete input (495188828.py, line 3)",
     "output_type": "error",
     "traceback": [
      "\u001b[0;36m  Input \u001b[0;32mIn [1]\u001b[0;36m\u001b[0m\n\u001b[0;31m    print(a+3\u001b[0m\n\u001b[0m             ^\u001b[0m\n\u001b[0;31mSyntaxError\u001b[0m\u001b[0;31m:\u001b[0m incomplete input\n"
     ]
    }
   ],
   "source": [
    "# A syntax error indicates that your code is not properly formatted:\n",
    "a = 2\n",
    "print(a+3"
   ]
  },
  {
   "cell_type": "code",
   "execution_count": 2,
   "metadata": {
    "colab": {
     "base_uri": "https://localhost:8080/",
     "height": 202
    },
    "id": "2mAQwq28JLrE",
    "outputId": "1b61f5f6-6aa3-4d7e-c504-970e56cfcf4f"
   },
   "outputs": [
    {
     "ename": "TypeError",
     "evalue": "can only concatenate str (not \"int\") to str",
     "output_type": "error",
     "traceback": [
      "\u001b[0;31m---------------------------------------------------------------------------\u001b[0m",
      "\u001b[0;31mTypeError\u001b[0m                                 Traceback (most recent call last)",
      "\u001b[1;32m/Users/leokam/Desktop/hello-world/IntroPythonExample/pfn_5.ipynb Cell 3\u001b[0m in \u001b[0;36m<cell line: 3>\u001b[0;34m()\u001b[0m\n\u001b[1;32m      <a href='vscode-notebook-cell:/Users/leokam/Desktop/hello-world/IntroPythonExample/pfn_5.ipynb#W2sZmlsZQ%3D%3D?line=0'>1</a>\u001b[0m \u001b[39m# A type error indicates that a function received an input of the wrong type\u001b[39;00m\n\u001b[1;32m      <a href='vscode-notebook-cell:/Users/leokam/Desktop/hello-world/IntroPythonExample/pfn_5.ipynb#W2sZmlsZQ%3D%3D?line=1'>2</a>\u001b[0m a \u001b[39m=\u001b[39m \u001b[39m'\u001b[39m\u001b[39m2\u001b[39m\u001b[39m'\u001b[39m\n\u001b[0;32m----> <a href='vscode-notebook-cell:/Users/leokam/Desktop/hello-world/IntroPythonExample/pfn_5.ipynb#W2sZmlsZQ%3D%3D?line=2'>3</a>\u001b[0m \u001b[39mprint\u001b[39m(a\u001b[39m+\u001b[39;49m\u001b[39m3\u001b[39;49m)\n",
      "\u001b[0;31mTypeError\u001b[0m: can only concatenate str (not \"int\") to str"
     ]
    }
   ],
   "source": [
    "# A type error indicates that a function received an input of the wrong type\n",
    "a = '2'\n",
    "print(a+3)"
   ]
  },
  {
   "cell_type": "code",
   "execution_count": 3,
   "metadata": {
    "colab": {
     "base_uri": "https://localhost:8080/",
     "height": 202
    },
    "id": "P6EtkeuuJe3I",
    "outputId": "fdc7aa80-c6a3-4cb5-b24a-53e632d5c594"
   },
   "outputs": [
    {
     "ename": "IndexError",
     "evalue": "list index out of range",
     "output_type": "error",
     "traceback": [
      "\u001b[0;31m---------------------------------------------------------------------------\u001b[0m",
      "\u001b[0;31mIndexError\u001b[0m                                Traceback (most recent call last)",
      "\u001b[1;32m/Users/leokam/Desktop/hello-world/IntroPythonExample/pfn_5.ipynb Cell 4\u001b[0m in \u001b[0;36m<cell line: 3>\u001b[0;34m()\u001b[0m\n\u001b[1;32m      <a href='vscode-notebook-cell:/Users/leokam/Desktop/hello-world/IntroPythonExample/pfn_5.ipynb#W3sZmlsZQ%3D%3D?line=0'>1</a>\u001b[0m \u001b[39m# An index error suggests that it is not possible to index an object in the attempted way.\u001b[39;00m\n\u001b[1;32m      <a href='vscode-notebook-cell:/Users/leokam/Desktop/hello-world/IntroPythonExample/pfn_5.ipynb#W3sZmlsZQ%3D%3D?line=1'>2</a>\u001b[0m a \u001b[39m=\u001b[39m [\u001b[39m2\u001b[39m, \u001b[39m3\u001b[39m]\n\u001b[0;32m----> <a href='vscode-notebook-cell:/Users/leokam/Desktop/hello-world/IntroPythonExample/pfn_5.ipynb#W3sZmlsZQ%3D%3D?line=2'>3</a>\u001b[0m a[\u001b[39m3\u001b[39;49m]\n",
      "\u001b[0;31mIndexError\u001b[0m: list index out of range"
     ]
    }
   ],
   "source": [
    "# An index error suggests that it is not possible to index an object in the attempted way.\n",
    "a = [2, 3]\n",
    "a[3]"
   ]
  },
  {
   "cell_type": "markdown",
   "metadata": {
    "id": "wbf3mJarJ13C"
   },
   "source": [
    "You can return errors yourself using the command `raise`:"
   ]
  },
  {
   "cell_type": "code",
   "execution_count": 5,
   "metadata": {
    "colab": {
     "base_uri": "https://localhost:8080/",
     "height": 202
    },
    "id": "PazoBY2BJ6mP",
    "outputId": "5e32e212-e11a-47cd-87e3-371a610b1330"
   },
   "outputs": [],
   "source": [
    "a = 2\n",
    "if a == 3:\n",
    "  raise ValueError('a should not be three')"
   ]
  },
  {
   "cell_type": "code",
   "execution_count": null,
   "metadata": {},
   "outputs": [],
   "source": []
  },
  {
   "cell_type": "markdown",
   "metadata": {
    "id": "aSeePGDQKfjt"
   },
   "source": [
    "### Exercise\n",
    "Write a function `integer_add` that takes two arguments and adds them together. If either of the arguments are not integers, it should raise an error. What is the correct error for this issue?"
   ]
  },
  {
   "cell_type": "code",
   "execution_count": 19,
   "metadata": {
    "id": "B4tFueXDZV2w"
   },
   "outputs": [],
   "source": [
    "def integer_add(a,b):\n",
    "    if isinstance(a,int) and isinstance(b,int):\n",
    "         return(a+b)\n",
    "    else:\n",
    "        raise ValueError ('input should be integer')\n",
    "        "
   ]
  },
  {
   "cell_type": "code",
   "execution_count": 20,
   "metadata": {
    "id": "H1b5r0JtZh9Q"
   },
   "outputs": [
    {
     "data": {
      "text/plain": [
       "3"
      ]
     },
     "execution_count": 20,
     "metadata": {},
     "output_type": "execute_result"
    }
   ],
   "source": [
    "integer_add(1,2)"
   ]
  },
  {
   "cell_type": "code",
   "execution_count": 21,
   "metadata": {
    "id": "hzttESjPZjfT"
   },
   "outputs": [
    {
     "ename": "ValueError",
     "evalue": "input should be integer",
     "output_type": "error",
     "traceback": [
      "\u001b[0;31m---------------------------------------------------------------------------\u001b[0m",
      "\u001b[0;31mValueError\u001b[0m                                Traceback (most recent call last)",
      "\u001b[1;32m/Users/leokam/Desktop/hello-world/IntroPythonExample/pfn_5.ipynb Cell 11\u001b[0m in \u001b[0;36m<cell line: 1>\u001b[0;34m()\u001b[0m\n\u001b[0;32m----> <a href='vscode-notebook-cell:/Users/leokam/Desktop/hello-world/IntroPythonExample/pfn_5.ipynb#X12sZmlsZQ%3D%3D?line=0'>1</a>\u001b[0m integer_add(\u001b[39m1.\u001b[39;49m,\u001b[39m2\u001b[39;49m)\n",
      "\u001b[1;32m/Users/leokam/Desktop/hello-world/IntroPythonExample/pfn_5.ipynb Cell 11\u001b[0m in \u001b[0;36minteger_add\u001b[0;34m(a, b)\u001b[0m\n\u001b[1;32m      <a href='vscode-notebook-cell:/Users/leokam/Desktop/hello-world/IntroPythonExample/pfn_5.ipynb#X12sZmlsZQ%3D%3D?line=2'>3</a>\u001b[0m      \u001b[39mreturn\u001b[39;00m(a\u001b[39m+\u001b[39mb)\n\u001b[1;32m      <a href='vscode-notebook-cell:/Users/leokam/Desktop/hello-world/IntroPythonExample/pfn_5.ipynb#X12sZmlsZQ%3D%3D?line=3'>4</a>\u001b[0m \u001b[39melse\u001b[39;00m:\n\u001b[0;32m----> <a href='vscode-notebook-cell:/Users/leokam/Desktop/hello-world/IntroPythonExample/pfn_5.ipynb#X12sZmlsZQ%3D%3D?line=4'>5</a>\u001b[0m     \u001b[39mraise\u001b[39;00m \u001b[39mValueError\u001b[39;00m (\u001b[39m'\u001b[39m\u001b[39minput should be integer\u001b[39m\u001b[39m'\u001b[39m)\n",
      "\u001b[0;31mValueError\u001b[0m: input should be integer"
     ]
    }
   ],
   "source": [
    "integer_add(1.,2)"
   ]
  },
  {
   "cell_type": "markdown",
   "metadata": {
    "id": "69tzIjsSlnLg"
   },
   "source": [
    "## Try / Except\n",
    "\n",
    "\n",
    "`try` tries the code in the `try` codeblock, and if it gives an error, runs code in an `except` code block. Best practice is to specify the errors you expect in the `except` statement so that you don't accidentally allow an unexpected error to go by unreported and unnoticed.\n",
    "\n",
    "For example, lets say that we want to count the number of occurrences of each letter in a given word -- for this example we will use abracadabra, but we want our code to work on any word.\n",
    "\n",
    "We might decide to do this using a dictionary where the keys are the letters and the values are the number of times that letter has occurred. We only want to have letters that do occur in the word as keys in our dictionary."
   ]
  },
  {
   "cell_type": "code",
   "execution_count": 22,
   "metadata": {
    "colab": {
     "base_uri": "https://localhost:8080/",
     "height": 202
    },
    "id": "LoeAK22yl0I1",
    "outputId": "f0996dfa-5a53-4671-9cb5-20ab2f1a50cf"
   },
   "outputs": [
    {
     "ename": "KeyError",
     "evalue": "'b'",
     "output_type": "error",
     "traceback": [
      "\u001b[0;31m---------------------------------------------------------------------------\u001b[0m",
      "\u001b[0;31mKeyError\u001b[0m                                  Traceback (most recent call last)",
      "\u001b[1;32m/Users/leokam/Desktop/hello-world/IntroPythonExample/pfn_5.ipynb Cell 13\u001b[0m in \u001b[0;36m<cell line: 6>\u001b[0;34m()\u001b[0m\n\u001b[1;32m      <a href='vscode-notebook-cell:/Users/leokam/Desktop/hello-world/IntroPythonExample/pfn_5.ipynb#X14sZmlsZQ%3D%3D?line=2'>3</a>\u001b[0m letter_counts \u001b[39m=\u001b[39m {\n\u001b[1;32m      <a href='vscode-notebook-cell:/Users/leokam/Desktop/hello-world/IntroPythonExample/pfn_5.ipynb#X14sZmlsZQ%3D%3D?line=3'>4</a>\u001b[0m     \u001b[39m'\u001b[39m\u001b[39ma\u001b[39m\u001b[39m'\u001b[39m: \u001b[39m0\u001b[39m\n\u001b[1;32m      <a href='vscode-notebook-cell:/Users/leokam/Desktop/hello-world/IntroPythonExample/pfn_5.ipynb#X14sZmlsZQ%3D%3D?line=4'>5</a>\u001b[0m }\n\u001b[1;32m      <a href='vscode-notebook-cell:/Users/leokam/Desktop/hello-world/IntroPythonExample/pfn_5.ipynb#X14sZmlsZQ%3D%3D?line=5'>6</a>\u001b[0m \u001b[39mfor\u001b[39;00m letter \u001b[39min\u001b[39;00m word: \u001b[39m# we can loop through strings like lists or tuples.\u001b[39;00m\n\u001b[0;32m----> <a href='vscode-notebook-cell:/Users/leokam/Desktop/hello-world/IntroPythonExample/pfn_5.ipynb#X14sZmlsZQ%3D%3D?line=6'>7</a>\u001b[0m   letter_counts[letter]\u001b[39m+\u001b[39m\u001b[39m=\u001b[39m\u001b[39m1\u001b[39m\n",
      "\u001b[0;31mKeyError\u001b[0m: 'b'"
     ]
    }
   ],
   "source": [
    "word = \"abracadabra\"\n",
    "\n",
    "letter_counts = {\n",
    "    'a': 0\n",
    "}\n",
    "for letter in word: # we can loop through strings like lists or tuples.\n",
    "  letter_counts[letter]+=1 # add one to the value at key letter"
   ]
  },
  {
   "cell_type": "code",
   "execution_count": 23,
   "metadata": {
    "colab": {
     "base_uri": "https://localhost:8080/"
    },
    "id": "NjStbt0fmhN3",
    "outputId": "475cba46-b8e1-4e86-ef5d-549fd07fa7fb"
   },
   "outputs": [
    {
     "name": "stdout",
     "output_type": "stream",
     "text": [
      "{'a': 5, 'b': 2, 'r': 2, 'c': 1, 'd': 1}\n"
     ]
    }
   ],
   "source": [
    "word = \"abracadabra\"\n",
    "\n",
    "\n",
    "letter_counts = {}\n",
    "for letter in word:\n",
    "  try:\n",
    "    letter_counts[letter]+=1\n",
    "  except KeyError: # we specify the type of error we expect here\n",
    "    letter_counts[letter] = 1\n",
    "\n",
    "print(letter_counts)"
   ]
  },
  {
   "cell_type": "markdown",
   "metadata": {
    "id": "BfAqgKC9niNE"
   },
   "source": [
    "See below for why it is important to specify the type of error you expect. Since we specified the type of error we expected and got a different error, we still find out that there is an error, and can take precautions to make sure we don't, for example, overwrite important info."
   ]
  },
  {
   "cell_type": "code",
   "execution_count": 27,
   "metadata": {
    "colab": {
     "base_uri": "https://localhost:8080/",
     "height": 232
    },
    "id": "6CP-Ds3TncpL",
    "outputId": "40276deb-bad3-45a9-ff0f-a5a246eed0b3"
   },
   "outputs": [
    {
     "ename": "TypeError",
     "evalue": "can only concatenate str (not \"int\") to str",
     "output_type": "error",
     "traceback": [
      "\u001b[0;31m---------------------------------------------------------------------------\u001b[0m",
      "\u001b[0;31mTypeError\u001b[0m                                 Traceback (most recent call last)",
      "\u001b[1;32m/Users/leokam/Desktop/hello-world/IntroPythonExample/pfn_5.ipynb Cell 16\u001b[0m in \u001b[0;36m<cell line: 6>\u001b[0;34m()\u001b[0m\n\u001b[1;32m      <a href='vscode-notebook-cell:/Users/leokam/Desktop/hello-world/IntroPythonExample/pfn_5.ipynb#X20sZmlsZQ%3D%3D?line=5'>6</a>\u001b[0m \u001b[39mfor\u001b[39;00m letter \u001b[39min\u001b[39;00m word:\n\u001b[1;32m      <a href='vscode-notebook-cell:/Users/leokam/Desktop/hello-world/IntroPythonExample/pfn_5.ipynb#X20sZmlsZQ%3D%3D?line=6'>7</a>\u001b[0m   \u001b[39mtry\u001b[39;00m:\n\u001b[0;32m----> <a href='vscode-notebook-cell:/Users/leokam/Desktop/hello-world/IntroPythonExample/pfn_5.ipynb#X20sZmlsZQ%3D%3D?line=7'>8</a>\u001b[0m     letter_counts[letter]\u001b[39m+\u001b[39m\u001b[39m=\u001b[39m\u001b[39m1\u001b[39m\n\u001b[1;32m      <a href='vscode-notebook-cell:/Users/leokam/Desktop/hello-world/IntroPythonExample/pfn_5.ipynb#X20sZmlsZQ%3D%3D?line=8'>9</a>\u001b[0m   \u001b[39mexcept\u001b[39;00m \u001b[39mKeyError\u001b[39;00m: \u001b[39m# we specify the type of error we expect here\u001b[39;00m\n\u001b[1;32m     <a href='vscode-notebook-cell:/Users/leokam/Desktop/hello-world/IntroPythonExample/pfn_5.ipynb#X20sZmlsZQ%3D%3D?line=9'>10</a>\u001b[0m     letter_counts[letter] \u001b[39m=\u001b[39m \u001b[39m1\u001b[39m\n",
      "\u001b[0;31mTypeError\u001b[0m: can only concatenate str (not \"int\") to str"
     ]
    }
   ],
   "source": [
    "word = \"abracadabra\"\n",
    "\n",
    "\n",
    "letter_counts = {}\n",
    "letter_counts['a'] = \"important info that should not be overwritten\" # something unexpected as a value\n",
    "for letter in word:\n",
    "  try:\n",
    "    letter_counts[letter]+=1\n",
    "  except KeyError: # we specify the type of error we expect here\n",
    "    letter_counts[letter] = 1\n",
    "\n",
    "print(letter_counts)"
   ]
  },
  {
   "cell_type": "markdown",
   "metadata": {
    "id": "jF2KxGiMn_Ye"
   },
   "source": [
    "What happens if you do not specify KeyError after `except` and just write `except:`?\n",
    "\n",
    "Try modifying below."
   ]
  },
  {
   "cell_type": "code",
   "execution_count": 28,
   "metadata": {
    "colab": {
     "base_uri": "https://localhost:8080/",
     "height": 232
    },
    "id": "tw28VBnGn3Bd",
    "outputId": "f9a38a95-c67e-481f-9a3a-e99e39a3b7ff"
   },
   "outputs": [
    {
     "name": "stdout",
     "output_type": "stream",
     "text": [
      "{'a': 5, 'b': 2, 'r': 2, 'c': 1, 'd': 1}\n"
     ]
    }
   ],
   "source": [
    "word = \"abracadabra\"\n",
    "\n",
    "\n",
    "letter_counts = {}\n",
    "letter_counts['a'] = \"important info that should not be overwritten\" # something unexpected as a value\n",
    "for letter in word:\n",
    "  try:\n",
    "    letter_counts[letter]+=1\n",
    "  except: # we specify the type of error we expect here\n",
    "    letter_counts[letter] = 1\n",
    "\n",
    "print(letter_counts)"
   ]
  },
  {
   "cell_type": "markdown",
   "metadata": {
    "id": "MJGOvgPApCTJ"
   },
   "source": [
    "### Exercise:\n",
    "Use try/except to write code that takes numbers a and b and prints a/b. If it gets an error (for example b is 0), it should instead print \"Cannot divide by zero\". Try your code with a few different choices of a and b to make sure it works correctly.\n",
    "\n",
    "*Hint* To find out what error you should be expecting try dividing something by 0 to see what error you get."
   ]
  },
  {
   "cell_type": "code",
   "execution_count": 30,
   "metadata": {},
   "outputs": [],
   "source": [
    "def devide (a,b):\n",
    "    try:\n",
    "        return (a/b)\n",
    "    except ZeroDivisionError:\n",
    "        print('cannot devide by zero')"
   ]
  },
  {
   "cell_type": "code",
   "execution_count": 33,
   "metadata": {
    "id": "tFZpyEgPon0U"
   },
   "outputs": [
    {
     "data": {
      "text/plain": [
       "3.0"
      ]
     },
     "execution_count": 33,
     "metadata": {},
     "output_type": "execute_result"
    }
   ],
   "source": [
    "devide(6,2)"
   ]
  },
  {
   "cell_type": "markdown",
   "metadata": {
    "id": "PULGwtNQGio5"
   },
   "source": [
    "# Numpy\n",
    "\n",
    "We often want to work with arrays of numerical data, for example a list of firing rates. We can store such data using basic Python, more specifically as a list of numbers:"
   ]
  },
  {
   "cell_type": "code",
   "execution_count": 36,
   "metadata": {
    "id": "Kwrbdv0TGjsE"
   },
   "outputs": [],
   "source": [
    "lst_1 = [25, 20, 40, 5] "
   ]
  },
  {
   "cell_type": "markdown",
   "metadata": {
    "id": "_h3axDgYG1ze"
   },
   "source": [
    "But these lists are missing a lot of functionality that we find useful for handling numerical data. (You may be used to these from Matlab or R.) For example, suppose you want to multiply each number by 2. We may want the following command to work:"
   ]
  },
  {
   "cell_type": "code",
   "execution_count": 37,
   "metadata": {
    "colab": {
     "base_uri": "https://localhost:8080/"
    },
    "id": "NyH3FjW4G0ZY",
    "outputId": "9b4b1010-57af-4e35-efdb-c5021bf33959"
   },
   "outputs": [
    {
     "data": {
      "text/plain": [
       "[25, 20, 40, 5, 25, 20, 40, 5]"
      ]
     },
     "execution_count": 37,
     "metadata": {},
     "output_type": "execute_result"
    }
   ],
   "source": [
    "2*lst_1"
   ]
  },
  {
   "cell_type": "markdown",
   "metadata": {
    "id": "CIG_FxHcHDAs"
   },
   "source": [
    "Yet its output is not what we are looking for. This is because lists are not *vectorized*: they do not assume that operations should be applied elementwise. Instead we would have to use a command like the one below:"
   ]
  },
  {
   "cell_type": "code",
   "execution_count": 38,
   "metadata": {
    "colab": {
     "base_uri": "https://localhost:8080/"
    },
    "id": "QcmhAnEAHB5e",
    "outputId": "e8d0b8a8-92ad-4aee-c180-9fad44ef6ead"
   },
   "outputs": [
    {
     "data": {
      "text/plain": [
       "[50, 40, 80, 10]"
      ]
     },
     "execution_count": 38,
     "metadata": {},
     "output_type": "execute_result"
    }
   ],
   "source": [
    "lst_2 = [lst_1[i]*2 for i in range(4)]\n",
    "lst_2"
   ]
  },
  {
   "cell_type": "markdown",
   "metadata": {
    "id": "xmAOTJi2HT7h"
   },
   "source": [
    "To address this and other issue that arise in handling numerical data in Python, we can use `numpy`, which stands for numerical data in Python.\n",
    "\n",
    "So far, we have exclusively used Python's base functionality. `numpy` is the first example of a package that has been contributed by external users and has to be installed manually. It is, however, integral to Python for basically anyone working with numerical data."
   ]
  },
  {
   "cell_type": "code",
   "execution_count": 39,
   "metadata": {
    "id": "0aQecS75HX0p"
   },
   "outputs": [],
   "source": [
    "import numpy as np"
   ]
  },
  {
   "cell_type": "markdown",
   "metadata": {
    "id": "K4prz5cvHaBa"
   },
   "source": [
    "## One-dimensional arrays: Vectors\n",
    "The central object of interest for numpy is an *array*, which refers to rectangular data (more on this later). The simplest case of an array is a one-dimensional one, a vector. You can create a vector from a list:"
   ]
  },
  {
   "cell_type": "code",
   "execution_count": 40,
   "metadata": {
    "id": "g4Hrcx-XHZfD"
   },
   "outputs": [],
   "source": [
    "vec_1 = np.array(lst_1)"
   ]
  },
  {
   "cell_type": "code",
   "execution_count": 41,
   "metadata": {
    "colab": {
     "base_uri": "https://localhost:8080/"
    },
    "id": "YPII22m0HlSZ",
    "outputId": "6f000524-c884-4898-fbeb-375435384600"
   },
   "outputs": [
    {
     "data": {
      "text/plain": [
       "array([25, 20, 40,  5])"
      ]
     },
     "execution_count": 41,
     "metadata": {},
     "output_type": "execute_result"
    }
   ],
   "source": [
    "vec_1"
   ]
  },
  {
   "cell_type": "code",
   "execution_count": 42,
   "metadata": {
    "colab": {
     "base_uri": "https://localhost:8080/"
    },
    "id": "u89emqUZrOCF",
    "outputId": "e967e300-b714-491e-a0ac-9fc6ed24f6f8"
   },
   "outputs": [
    {
     "data": {
      "text/plain": [
       "numpy.ndarray"
      ]
     },
     "execution_count": 42,
     "metadata": {},
     "output_type": "execute_result"
    }
   ],
   "source": [
    "type(vec_1)"
   ]
  },
  {
   "cell_type": "markdown",
   "metadata": {
    "id": "ty-xfOU5H0gm"
   },
   "source": [
    "We can also turn a vector back into a list:"
   ]
  },
  {
   "cell_type": "code",
   "execution_count": 43,
   "metadata": {
    "colab": {
     "base_uri": "https://localhost:8080/"
    },
    "id": "1IioBJziHy74",
    "outputId": "2f0e9841-e7d4-43d4-b22e-925b108a960c"
   },
   "outputs": [
    {
     "data": {
      "text/plain": [
       "[25, 20, 40, 5]"
      ]
     },
     "execution_count": 43,
     "metadata": {},
     "output_type": "execute_result"
    }
   ],
   "source": [
    "list(vec_1)"
   ]
  },
  {
   "cell_type": "markdown",
   "metadata": {
    "id": "jxNfol0zH5fE"
   },
   "source": [
    "Using the numpy array, we can now perform mathematical operations in the way we would like (and perhaps expect from e.g. Matlab)."
   ]
  },
  {
   "cell_type": "code",
   "execution_count": 44,
   "metadata": {
    "colab": {
     "base_uri": "https://localhost:8080/"
    },
    "id": "JSDCiaZAH6rK",
    "outputId": "0ce6452a-aa05-44c3-e957-4f4f7d533d29"
   },
   "outputs": [
    {
     "data": {
      "text/plain": [
       "array([50, 40, 80, 10])"
      ]
     },
     "execution_count": 44,
     "metadata": {},
     "output_type": "execute_result"
    }
   ],
   "source": [
    "vec_2 = 2*vec_1\n",
    "vec_2"
   ]
  },
  {
   "cell_type": "code",
   "execution_count": 45,
   "metadata": {
    "colab": {
     "base_uri": "https://localhost:8080/"
    },
    "id": "gqciRPOxH9mM",
    "outputId": "2906b806-1e89-4e0d-c718-549b54caf767"
   },
   "outputs": [
    {
     "data": {
      "text/plain": [
       "array([ 75,  60, 120,  15])"
      ]
     },
     "execution_count": 45,
     "metadata": {},
     "output_type": "execute_result"
    }
   ],
   "source": [
    "vec_1+vec_2"
   ]
  },
  {
   "cell_type": "markdown",
   "metadata": {
    "id": "zNaCUrTiIDlu"
   },
   "source": [
    "In contrast, what happens if we add two lists?"
   ]
  },
  {
   "cell_type": "code",
   "execution_count": 46,
   "metadata": {
    "colab": {
     "base_uri": "https://localhost:8080/"
    },
    "id": "Vi4o1qOqICye",
    "outputId": "2ed0d202-c6d7-4a96-c947-5d97adabc0b0"
   },
   "outputs": [
    {
     "data": {
      "text/plain": [
       "[25, 20, 40, 5, 50, 40, 80, 10]"
      ]
     },
     "execution_count": 46,
     "metadata": {},
     "output_type": "execute_result"
    }
   ],
   "source": [
    "lst_1 + lst_2"
   ]
  },
  {
   "cell_type": "markdown",
   "metadata": {
    "id": "xkMsnkgsJEzH"
   },
   "source": [
    "### Differences between lists and vectors\n",
    "Both lists and vectors can be indexed and we can easily transform an array into a list and vice versa. What are some of their differences?\n",
    "#### Elementwise operations\n",
    "We have already covered that arrays have elementwise operations whereas lists do not.\n",
    "#### Each element must have the same type\n",
    "Lists can consist of elements with different types:"
   ]
  },
  {
   "cell_type": "code",
   "execution_count": 47,
   "metadata": {
    "colab": {
     "base_uri": "https://localhost:8080/"
    },
    "id": "tDs2CyYJJBp8",
    "outputId": "697a0c13-beb9-43a0-a9b1-8be043c8eddc"
   },
   "outputs": [
    {
     "data": {
      "text/plain": [
       "['a', 5]"
      ]
     },
     "execution_count": 47,
     "metadata": {},
     "output_type": "execute_result"
    }
   ],
   "source": [
    "lst_3 = ['a', 5]\n",
    "lst_3"
   ]
  },
  {
   "cell_type": "markdown",
   "metadata": {
    "id": "zAE4NuCaJVgK"
   },
   "source": [
    "An array, on the other hand, will always have the same data type for each of its elements. If a list with unequal types is converted to an array all its elements are converted to the same data type."
   ]
  },
  {
   "cell_type": "code",
   "execution_count": 48,
   "metadata": {
    "colab": {
     "base_uri": "https://localhost:8080/"
    },
    "id": "HenQjM7BJDm8",
    "outputId": "04e03289-9a2e-449c-ef17-e5d2b29e02e6"
   },
   "outputs": [
    {
     "data": {
      "text/plain": [
       "array(['a', '5'], dtype='<U21')"
      ]
     },
     "execution_count": 48,
     "metadata": {},
     "output_type": "execute_result"
    }
   ],
   "source": [
    "vec_3 = np.array(lst_3)\n",
    "vec_3"
   ]
  },
  {
   "cell_type": "markdown",
   "metadata": {
    "id": "2oyiVK-eBugp"
   },
   "source": [
    "<U21 is the data type corresponding to strings. You usually don't want to rely on this automatic casting functionality and should try to avoid it."
   ]
  },
  {
   "cell_type": "code",
   "execution_count": 49,
   "metadata": {
    "colab": {
     "base_uri": "https://localhost:8080/"
    },
    "id": "Mq6gRIo7xLpP",
    "outputId": "cce46044-7202-44a0-f1d5-b9c1277a880f"
   },
   "outputs": [
    {
     "data": {
      "text/plain": [
       "numpy.ndarray"
      ]
     },
     "execution_count": 49,
     "metadata": {},
     "output_type": "execute_result"
    }
   ],
   "source": [
    "type(vec_3)"
   ]
  },
  {
   "cell_type": "markdown",
   "metadata": {
    "id": "HU0X6nxXJmEU"
   },
   "source": [
    "How can you print out the type of this vector? Note that `type(vec_3)` gives you the type of the entire object which is a numpy array. Rather you want the type of the individual elements. Try using the autocomplete function to find out.\n",
    "\n",
    "*Hint* look at what the type information was called above."
   ]
  },
  {
   "cell_type": "code",
   "execution_count": 56,
   "metadata": {
    "colab": {
     "base_uri": "https://localhost:8080/"
    },
    "id": "KMTxXt7CJj4L",
    "outputId": "855247f2-7202-4152-d25c-fa09302111c6"
   },
   "outputs": [
    {
     "data": {
      "text/plain": [
       "'str672'"
      ]
     },
     "execution_count": 56,
     "metadata": {},
     "output_type": "execute_result"
    }
   ],
   "source": [
    "vec_3.dtype.name\n"
   ]
  },
  {
   "cell_type": "markdown",
   "metadata": {
    "id": "s8KbrP0DWwIl"
   },
   "source": [
    "We do we not need parentheses after `dtype`? This is because `dtype` is not function, but rather a new type of Python object called an *attribute*. We will get to know them in more depth in a later lesson."
   ]
  },
  {
   "cell_type": "markdown",
   "metadata": {
    "id": "yOwAPYTfWBHz"
   },
   "source": [
    "The order of types is:\n",
    "- object (general Python objects)\n",
    "- string\n",
    "- float\n",
    "- int\n",
    "- boolean"
   ]
  },
  {
   "cell_type": "markdown",
   "metadata": {
    "id": "9f87sfl0XXfC"
   },
   "source": [
    "### Question 1\n",
    "\n",
    "- Create a numpy array with the elements 3, 7, 10 and divide each element by two\n",
    "- Create a new array `vec_4` that is the elementwise multiplication of `vec_1` and `vec_2`.\n",
    "- Create an array `vec_5` that has a `True` value wherever `vec_1` is smaller than or equal to `20` and a `False` value otherwise. *Hint:* This should be possible in a one liner."
   ]
  },
  {
   "cell_type": "code",
   "execution_count": 57,
   "metadata": {},
   "outputs": [
    {
     "name": "stdout",
     "output_type": "stream",
     "text": [
      "[1.5 3.5 5. ]\n"
     ]
    }
   ],
   "source": [
    "a=np.array([3,7,10])\n",
    "print(a/2)"
   ]
  },
  {
   "cell_type": "code",
   "execution_count": 62,
   "metadata": {},
   "outputs": [
    {
     "name": "stdout",
     "output_type": "stream",
     "text": [
      "[25 20 40  5]\n",
      "[50 40 80 10]\n"
     ]
    },
    {
     "data": {
      "text/plain": [
       "array([1250,  800, 3200,   50])"
      ]
     },
     "execution_count": 62,
     "metadata": {},
     "output_type": "execute_result"
    }
   ],
   "source": [
    "print(vec_1)\n",
    "print(vec_2)\n",
    "\n",
    "np.multiply(vec_1,vec_2)"
   ]
  },
  {
   "cell_type": "code",
   "execution_count": 61,
   "metadata": {},
   "outputs": [
    {
     "name": "stdout",
     "output_type": "stream",
     "text": [
      "[False  True False  True]\n"
     ]
    }
   ],
   "source": [
    "vec_5=vec_1<=20\n",
    "print(vec_5)"
   ]
  },
  {
   "cell_type": "markdown",
   "metadata": {
    "id": "I9g4o9-5aau7"
   },
   "source": [
    "## Two-dimensional arrays: Matrices\n",
    "Rectangular data in two dimensions is often called a matrix: it consists of observations organized by rows and columns. Basic Python would allow us to store such data using a list of lists:"
   ]
  },
  {
   "cell_type": "code",
   "execution_count": 63,
   "metadata": {
    "colab": {
     "base_uri": "https://localhost:8080/"
    },
    "id": "aHaussb_acn4",
    "outputId": "8b583c28-1716-4463-b167-8ad740847bf1"
   },
   "outputs": [
    {
     "data": {
      "text/plain": [
       "[[1, 2], [3, 4], [5, 6]]"
      ]
     },
     "execution_count": 63,
     "metadata": {},
     "output_type": "execute_result"
    }
   ],
   "source": [
    "lst_1 = [\n",
    "    [1, 2],\n",
    "    [3, 4],\n",
    "    [5, 6]\n",
    "]\n",
    "lst_1"
   ]
  },
  {
   "cell_type": "markdown",
   "metadata": {
    "id": "N07rOqeqaqwQ"
   },
   "source": [
    "Yet the already tedious process of computing elementwise operations quickly becomes infeasible in this context. If wanted to multiply each element by two we would have to iterate over the outer list and then the inner set of lists."
   ]
  },
  {
   "cell_type": "code",
   "execution_count": 64,
   "metadata": {
    "colab": {
     "base_uri": "https://localhost:8080/"
    },
    "id": "NCbnADCCaqTC",
    "outputId": "1cf52769-6205-4c95-d033-9aaed7d3cae3"
   },
   "outputs": [
    {
     "data": {
      "text/plain": [
       "[[2, 4], [6, 8], [10, 12]]"
      ]
     },
     "execution_count": 64,
     "metadata": {},
     "output_type": "execute_result"
    }
   ],
   "source": [
    "lst_2 = [\n",
    "    [2*it2 for it2 in it] for it in lst_1\n",
    "]\n",
    "lst_2"
   ]
  },
  {
   "cell_type": "markdown",
   "metadata": {
    "id": "6WSQCwpoa6zv"
   },
   "source": [
    "Again we can turn the list of lists into a matrix simply by applying `np.array`:"
   ]
  },
  {
   "cell_type": "code",
   "execution_count": 65,
   "metadata": {
    "colab": {
     "base_uri": "https://localhost:8080/"
    },
    "id": "A2ZH45xCa5xs",
    "outputId": "1d8bb998-fab9-424a-d67c-27592f96d83f"
   },
   "outputs": [
    {
     "data": {
      "text/plain": [
       "array([[1, 2],\n",
       "       [3, 4],\n",
       "       [5, 6]])"
      ]
     },
     "execution_count": 65,
     "metadata": {},
     "output_type": "execute_result"
    }
   ],
   "source": [
    "mat_1 = np.array(lst_1)\n",
    "mat_1"
   ]
  },
  {
   "cell_type": "markdown",
   "metadata": {
    "id": "4oHG4eJpbJLQ"
   },
   "source": [
    "Now we can apply vectorized operations as previously:"
   ]
  },
  {
   "cell_type": "code",
   "execution_count": 66,
   "metadata": {
    "colab": {
     "base_uri": "https://localhost:8080/"
    },
    "id": "lSdMqEdfaZ-S",
    "outputId": "27d7f83c-5e04-4fc5-d409-1ae499d22df3"
   },
   "outputs": [
    {
     "data": {
      "text/plain": [
       "array([[ 2,  4],\n",
       "       [ 6,  8],\n",
       "       [10, 12]])"
      ]
     },
     "execution_count": 66,
     "metadata": {},
     "output_type": "execute_result"
    }
   ],
   "source": [
    "mat_2 = 2*mat_1\n",
    "mat_2"
   ]
  },
  {
   "cell_type": "markdown",
   "metadata": {
    "id": "TEchqbaYbZAx"
   },
   "source": [
    "How can you find out the number of rows and columns of the matrix? Try googling or exploring the methods using the autocomplete function."
   ]
  },
  {
   "cell_type": "code",
   "execution_count": 67,
   "metadata": {
    "colab": {
     "base_uri": "https://localhost:8080/"
    },
    "id": "A1SiyNYlbYDn",
    "outputId": "027c49da-1952-4c6d-eed0-40a41843c31b"
   },
   "outputs": [
    {
     "data": {
      "text/plain": [
       "(3, 2)"
      ]
     },
     "execution_count": 67,
     "metadata": {},
     "output_type": "execute_result"
    }
   ],
   "source": [
    "mat_1.shape"
   ]
  },
  {
   "cell_type": "markdown",
   "metadata": {
    "id": "nOVUK8v_bg8v"
   },
   "source": [
    "Importantly, numpy, by default, uses elementwise computations. So `*` results in elementwise multiplication, not matrix multiplication."
   ]
  },
  {
   "cell_type": "code",
   "execution_count": 68,
   "metadata": {
    "colab": {
     "base_uri": "https://localhost:8080/"
    },
    "id": "7ccLZjhTbXFl",
    "outputId": "5430e4ba-cd69-4790-fd01-8e8787723646"
   },
   "outputs": [
    {
     "data": {
      "text/plain": [
       "array([[ 2,  8],\n",
       "       [18, 32],\n",
       "       [50, 72]])"
      ]
     },
     "execution_count": 68,
     "metadata": {},
     "output_type": "execute_result"
    }
   ],
   "source": [
    "mat_1*mat_2"
   ]
  },
  {
   "cell_type": "markdown",
   "metadata": {
    "id": "e7MM0aFwbtM3"
   },
   "source": [
    "You can run matrix multiplication by using the `@` operator."
   ]
  },
  {
   "cell_type": "code",
   "execution_count": 69,
   "metadata": {
    "colab": {
     "base_uri": "https://localhost:8080/"
    },
    "id": "SdcCXPBJbPfz",
    "outputId": "3130dc41-bca8-4b6b-feb4-24c49a597fdc"
   },
   "outputs": [
    {
     "data": {
      "text/plain": [
       "array([[ 7, 10],\n",
       "       [15, 22],\n",
       "       [23, 34]])"
      ]
     },
     "execution_count": 69,
     "metadata": {},
     "output_type": "execute_result"
    }
   ],
   "source": [
    "mat_3 = np.array([[1,2],[3,4]])\n",
    "mat_1@mat_3"
   ]
  },
  {
   "cell_type": "markdown",
   "metadata": {
    "id": "85fE77jCf4Cu"
   },
   "source": [
    "### Saving arrays\n",
    "We can save arrays using `np.save`."
   ]
  },
  {
   "cell_type": "code",
   "execution_count": 70,
   "metadata": {
    "id": "sHUU-KMef2ek"
   },
   "outputs": [],
   "source": [
    "np.save('mat_1.npy', mat_1)"
   ]
  },
  {
   "cell_type": "code",
   "execution_count": 71,
   "metadata": {
    "id": "ih06GwajgD1J"
   },
   "outputs": [],
   "source": [
    "mat_1_copy = np.load('mat_1.npy')"
   ]
  },
  {
   "cell_type": "code",
   "execution_count": 72,
   "metadata": {
    "colab": {
     "base_uri": "https://localhost:8080/"
    },
    "id": "Qk5uUcWRgGFk",
    "outputId": "f881fbd2-21e8-42b3-a6c2-cb7726dbf95e"
   },
   "outputs": [
    {
     "data": {
      "text/plain": [
       "array([[1, 2],\n",
       "       [3, 4],\n",
       "       [5, 6]])"
      ]
     },
     "execution_count": 72,
     "metadata": {},
     "output_type": "execute_result"
    }
   ],
   "source": [
    "mat_1_copy"
   ]
  },
  {
   "cell_type": "markdown",
   "metadata": {
    "id": "4qDjYW1sgIbS"
   },
   "source": [
    "## Higher-dimensional arrays"
   ]
  },
  {
   "cell_type": "markdown",
   "metadata": {
    "id": "xjSrE54nhytJ"
   },
   "source": [
    "We now load some simulated data, which is stored in the file `ex_array.npy`. Try assigning the data in that file to the variable `arr`."
   ]
  },
  {
   "cell_type": "code",
   "execution_count": 73,
   "metadata": {
    "id": "OmWwSJnhhxt2"
   },
   "outputs": [],
   "source": [
    "arr = np.load('ex_array.npy')"
   ]
  },
  {
   "cell_type": "markdown",
   "metadata": {
    "id": "W6THIuYWh_6q"
   },
   "source": [
    "Suppose you know that what is stored in this data are spike rates of fifty different neurons for two different conditions and ten repeated measurements. Spike rates are recorded every second for 2000 seconds. How can you figure out how this data is represented in the array?"
   ]
  },
  {
   "cell_type": "code",
   "execution_count": 74,
   "metadata": {
    "colab": {
     "base_uri": "https://localhost:8080/"
    },
    "id": "lezT4fgbh7UZ",
    "outputId": "d6edc8f1-7d1c-404f-87e7-1deaaa8a3dfa"
   },
   "outputs": [
    {
     "data": {
      "text/plain": [
       "(2, 10, 50, 2000)"
      ]
     },
     "execution_count": 74,
     "metadata": {},
     "output_type": "execute_result"
    }
   ],
   "source": [
    "arr.shape"
   ]
  },
  {
   "cell_type": "code",
   "execution_count": 75,
   "metadata": {
    "colab": {
     "base_uri": "https://localhost:8080/"
    },
    "id": "xkPa3Zj-jArE",
    "outputId": "460bad23-d54a-4b8f-b3c2-11f6eab0ee46"
   },
   "outputs": [
    {
     "data": {
      "text/plain": [
       "4"
      ]
     },
     "execution_count": 75,
     "metadata": {},
     "output_type": "execute_result"
    }
   ],
   "source": [
    "arr.ndim"
   ]
  },
  {
   "cell_type": "markdown",
   "metadata": {
    "id": "R7dmsH5TiywM"
   },
   "source": [
    "Whereas a vector has one dimension and a matrix has two dimensions, `arr` has four dimensions: the first one specifies the condition, the second one the trial, the third one the neuron, and the fourth one the timepoint. We can also create higher-dimensional arrays directly:"
   ]
  },
  {
   "cell_type": "code",
   "execution_count": 76,
   "metadata": {
    "id": "ZjMjzrDXilnk"
   },
   "outputs": [],
   "source": [
    "arr_2 = np.array([\n",
    "    [[2,4,6],\n",
    "     [1,3,5]],\n",
    "    [[0.5,1,2],\n",
    "     [0.75, 1, 1.25]]\n",
    "])"
   ]
  },
  {
   "cell_type": "markdown",
   "metadata": {
    "id": "0MJwrnNijaAs"
   },
   "source": [
    "What is `arr_2.ndim` and `arr_2.shape`?"
   ]
  },
  {
   "cell_type": "code",
   "execution_count": 77,
   "metadata": {
    "colab": {
     "base_uri": "https://localhost:8080/"
    },
    "id": "O5LIkrgajZWy",
    "outputId": "808a92c5-d12f-4d06-92bf-91528b2d3186"
   },
   "outputs": [
    {
     "data": {
      "text/plain": [
       "3"
      ]
     },
     "execution_count": 77,
     "metadata": {},
     "output_type": "execute_result"
    }
   ],
   "source": [
    "arr_2.ndim"
   ]
  },
  {
   "cell_type": "code",
   "execution_count": 78,
   "metadata": {
    "colab": {
     "base_uri": "https://localhost:8080/"
    },
    "id": "Up9CDVi0jXC4",
    "outputId": "d492b942-e770-42ea-c946-1432c16ad5eb"
   },
   "outputs": [
    {
     "data": {
      "text/plain": [
       "(2, 2, 3)"
      ]
     },
     "execution_count": 78,
     "metadata": {},
     "output_type": "execute_result"
    }
   ],
   "source": [
    "arr_2.shape"
   ]
  },
  {
   "cell_type": "markdown",
   "metadata": {
    "id": "gz4AMGrVb7p6"
   },
   "source": [
    "### Data must be rectangular\n",
    "Importantly numpy only allows for rectangular data. What happens if you create an array from a list of lists with unequal length?"
   ]
  },
  {
   "cell_type": "code",
   "execution_count": 79,
   "metadata": {
    "colab": {
     "base_uri": "https://localhost:8080/"
    },
    "id": "nQNcMlmwb0l1",
    "outputId": "263303ed-39db-432c-b2ad-2375d3a9112f"
   },
   "outputs": [
    {
     "name": "stderr",
     "output_type": "stream",
     "text": [
      "/var/folders/1n/8mslbcrd3hg39s0c319srj3h0000gn/T/ipykernel_1143/2922253680.py:1: VisibleDeprecationWarning: Creating an ndarray from ragged nested sequences (which is a list-or-tuple of lists-or-tuples-or ndarrays with different lengths or shapes) is deprecated. If you meant to do this, you must specify 'dtype=object' when creating the ndarray.\n",
      "  mat = np.array([[1,2],[3]])\n"
     ]
    }
   ],
   "source": [
    "mat = np.array([[1,2],[3]])"
   ]
  },
  {
   "cell_type": "code",
   "execution_count": 80,
   "metadata": {
    "colab": {
     "base_uri": "https://localhost:8080/"
    },
    "id": "wdbFi0KxcHtD",
    "outputId": "422201f6-6428-4317-930d-a6797f74d45e"
   },
   "outputs": [
    {
     "data": {
      "text/plain": [
       "array([list([1, 2]), list([3])], dtype=object)"
      ]
     },
     "execution_count": 80,
     "metadata": {},
     "output_type": "execute_result"
    }
   ],
   "source": [
    "mat"
   ]
  },
  {
   "cell_type": "markdown",
   "metadata": {
    "id": "K_bR9EdTcJ0U"
   },
   "source": [
    "### Broadcasting"
   ]
  },
  {
   "cell_type": "markdown",
   "metadata": {
    "id": "RuSm1ullcVBX"
   },
   "source": [
    "In general you cannot add two matrices with different shapes:"
   ]
  },
  {
   "cell_type": "code",
   "execution_count": 81,
   "metadata": {
    "colab": {
     "base_uri": "https://localhost:8080/"
    },
    "id": "dC4lJH2ncJJD",
    "outputId": "aaff9a47-843f-40d8-aa7e-e8b2651a453a"
   },
   "outputs": [
    {
     "data": {
      "text/plain": [
       "(3, 2)"
      ]
     },
     "execution_count": 81,
     "metadata": {},
     "output_type": "execute_result"
    }
   ],
   "source": [
    "mat_1.shape"
   ]
  },
  {
   "cell_type": "code",
   "execution_count": 82,
   "metadata": {
    "id": "lYd4fORPkZNd"
   },
   "outputs": [],
   "source": [
    "mat_3 = np.array([\n",
    "    [1,2,3],\n",
    "    [1,2,3]\n",
    "])"
   ]
  },
  {
   "cell_type": "code",
   "execution_count": 83,
   "metadata": {
    "colab": {
     "base_uri": "https://localhost:8080/",
     "height": 167
    },
    "id": "3vC8NBhGkc0W",
    "outputId": "9dac0cb5-60ef-47ed-e2a4-c663e23698b1"
   },
   "outputs": [
    {
     "ename": "ValueError",
     "evalue": "operands could not be broadcast together with shapes (3,2) (2,3) ",
     "output_type": "error",
     "traceback": [
      "\u001b[0;31m---------------------------------------------------------------------------\u001b[0m",
      "\u001b[0;31mValueError\u001b[0m                                Traceback (most recent call last)",
      "\u001b[1;32m/Users/leokam/Desktop/hello-world/IntroPythonExample/pfn_5.ipynb Cell 91\u001b[0m in \u001b[0;36m<cell line: 1>\u001b[0;34m()\u001b[0m\n\u001b[0;32m----> <a href='vscode-notebook-cell:/Users/leokam/Desktop/hello-world/IntroPythonExample/pfn_5.ipynb#Y151sZmlsZQ%3D%3D?line=0'>1</a>\u001b[0m mat_1\u001b[39m+\u001b[39;49mmat_3\n",
      "\u001b[0;31mValueError\u001b[0m: operands could not be broadcast together with shapes (3,2) (2,3) "
     ]
    }
   ],
   "source": [
    "mat_1+mat_3"
   ]
  },
  {
   "cell_type": "markdown",
   "metadata": {
    "id": "OhFi4XhrkzZh"
   },
   "source": [
    "Elementwise operations can work between two arrays with unequal shapes:\n",
    "- If they match everywhere except where one of them has a dimension of length 1\n",
    "- If they have an unequal number of dimensions, the array with fewer dimensions is appended dimensions of length 1 in the beginning."
   ]
  },
  {
   "cell_type": "code",
   "execution_count": 84,
   "metadata": {
    "colab": {
     "base_uri": "https://localhost:8080/"
    },
    "id": "fVg714JHcTAN",
    "outputId": "ee9a8a11-5bc8-4476-9c50-94fbefa11ee9"
   },
   "outputs": [
    {
     "data": {
      "text/plain": [
       "array([[2, 4],\n",
       "       [4, 6],\n",
       "       [6, 8]])"
      ]
     },
     "execution_count": 84,
     "metadata": {},
     "output_type": "execute_result"
    }
   ],
   "source": [
    "np.array([\n",
    "    [1,2]\n",
    "]) + np.array([\n",
    "    [1,2],\n",
    "    [3,4],\n",
    "    [5,6]\n",
    "])"
   ]
  },
  {
   "cell_type": "markdown",
   "metadata": {
    "id": "txpp5D4Fcbnh"
   },
   "source": [
    "The same thing is true for matrices with one column or other elementwise operations."
   ]
  },
  {
   "cell_type": "code",
   "execution_count": null,
   "metadata": {
    "id": "MAqugLYAxvX8"
   },
   "outputs": [],
   "source": [
    "divisor = np.array([[2], [1], [1]])"
   ]
  },
  {
   "cell_type": "code",
   "execution_count": null,
   "metadata": {
    "colab": {
     "base_uri": "https://localhost:8080/"
    },
    "id": "1wwZoRZbxww4",
    "outputId": "73a1f9ad-33e1-4399-f00c-af5048109b2c"
   },
   "outputs": [],
   "source": [
    "divisor.shape"
   ]
  },
  {
   "cell_type": "code",
   "execution_count": null,
   "metadata": {
    "colab": {
     "base_uri": "https://localhost:8080/"
    },
    "id": "K_YXKJNolJId",
    "outputId": "505b949f-0a2f-4437-8140-901bd9d565f5"
   },
   "outputs": [],
   "source": [
    "mat_1"
   ]
  },
  {
   "cell_type": "code",
   "execution_count": null,
   "metadata": {
    "colab": {
     "base_uri": "https://localhost:8080/"
    },
    "id": "szv2oFgMcaJv",
    "outputId": "1b6837b3-fcb6-40d0-c456-2cfae20b071a"
   },
   "outputs": [],
   "source": [
    "mat_1 / divisor"
   ]
  },
  {
   "cell_type": "code",
   "execution_count": null,
   "metadata": {
    "id": "de902JjElM4W"
   },
   "outputs": [],
   "source": [
    "vec_4 = np.array([1, 2])"
   ]
  },
  {
   "cell_type": "code",
   "execution_count": null,
   "metadata": {
    "colab": {
     "base_uri": "https://localhost:8080/"
    },
    "id": "WOfbxyFRlQpe",
    "outputId": "e8d907f2-c730-474f-f82e-6fdaf44d56b6"
   },
   "outputs": [],
   "source": [
    "vec_4.shape"
   ]
  },
  {
   "cell_type": "code",
   "execution_count": null,
   "metadata": {
    "colab": {
     "base_uri": "https://localhost:8080/"
    },
    "id": "Aw0ed-0alRiq",
    "outputId": "bb6cf9a1-7bbb-4930-82bd-5e6051345aba"
   },
   "outputs": [],
   "source": [
    "vec_4+mat_1"
   ]
  },
  {
   "cell_type": "markdown",
   "metadata": {
    "id": "LSYn6o4GmA7y"
   },
   "source": [
    "### Creating some arrays"
   ]
  },
  {
   "cell_type": "code",
   "execution_count": 85,
   "metadata": {
    "colab": {
     "base_uri": "https://localhost:8080/"
    },
    "id": "zhFYbgS_mAUl",
    "outputId": "3bfe11ca-8aad-463c-9ce6-85b58b5d0200"
   },
   "outputs": [
    {
     "data": {
      "text/plain": [
       "array([0.  , 0.05, 0.1 , 0.15, 0.2 , 0.25, 0.3 , 0.35, 0.4 , 0.45, 0.5 ,\n",
       "       0.55, 0.6 , 0.65, 0.7 , 0.75, 0.8 , 0.85, 0.9 , 0.95, 1.  ])"
      ]
     },
     "execution_count": 85,
     "metadata": {},
     "output_type": "execute_result"
    }
   ],
   "source": [
    "np.linspace(0, 1, 21)"
   ]
  },
  {
   "cell_type": "code",
   "execution_count": 86,
   "metadata": {
    "colab": {
     "base_uri": "https://localhost:8080/"
    },
    "id": "zX4_oVKWmD_A",
    "outputId": "d94cab20-5800-4551-b110-d7ad53f48716"
   },
   "outputs": [
    {
     "data": {
      "text/plain": [
       "array([0, 1, 2, 3, 4, 5, 6, 7, 8, 9])"
      ]
     },
     "execution_count": 86,
     "metadata": {},
     "output_type": "execute_result"
    }
   ],
   "source": [
    "np.arange(10)"
   ]
  },
  {
   "cell_type": "code",
   "execution_count": 87,
   "metadata": {
    "colab": {
     "base_uri": "https://localhost:8080/"
    },
    "id": "WwLsYorRmE1K",
    "outputId": "1e050543-473a-44fe-8b8d-ed9780841f7c"
   },
   "outputs": [
    {
     "data": {
      "text/plain": [
       "array([1, 3, 5, 7, 9])"
      ]
     },
     "execution_count": 87,
     "metadata": {},
     "output_type": "execute_result"
    }
   ],
   "source": [
    "np.arange(1, 10, 2)"
   ]
  },
  {
   "cell_type": "code",
   "execution_count": 88,
   "metadata": {
    "colab": {
     "base_uri": "https://localhost:8080/"
    },
    "id": "rX8g97GemF7M",
    "outputId": "616fe4de-af51-42c5-94f9-5da642cc9e6b"
   },
   "outputs": [
    {
     "data": {
      "text/plain": [
       "array([[[1., 1., 1.],\n",
       "        [1., 1., 1.]],\n",
       "\n",
       "       [[1., 1., 1.],\n",
       "        [1., 1., 1.]],\n",
       "\n",
       "       [[1., 1., 1.],\n",
       "        [1., 1., 1.]],\n",
       "\n",
       "       [[1., 1., 1.],\n",
       "        [1., 1., 1.]]])"
      ]
     },
     "execution_count": 88,
     "metadata": {},
     "output_type": "execute_result"
    }
   ],
   "source": [
    "np.ones((4, 2, 3))"
   ]
  },
  {
   "cell_type": "markdown",
   "metadata": {
    "id": "BdvzvNT1o1lx"
   },
   "source": [
    "### Question 2\n",
    "\n",
    "Below we're creating arrays with different shapes. Try predicting for each if elementwise addition would work, what shape the resulting array would have, then try it out and see if you were correct."
   ]
  },
  {
   "cell_type": "code",
   "execution_count": null,
   "metadata": {
    "id": "8vtf-cISnZyy"
   },
   "outputs": [],
   "source": [
    "arr_1 = np.ones((3,2))\n",
    "arr_2 = np.ones((2,3))"
   ]
  },
  {
   "cell_type": "code",
   "execution_count": null,
   "metadata": {
    "id": "eX7dR8TJndJ9"
   },
   "outputs": [],
   "source": [
    "arr_1 = np.ones((4,1,5))\n",
    "arr_2 = np.ones((4,6,5))"
   ]
  },
  {
   "cell_type": "code",
   "execution_count": null,
   "metadata": {
    "id": "n5gRH_tvnnai"
   },
   "outputs": [],
   "source": [
    "arr_1 = np.ones((4,1,5))\n",
    "arr_2 = np.ones((4,6,1))"
   ]
  },
  {
   "cell_type": "code",
   "execution_count": null,
   "metadata": {
    "id": "3Hgh_ZD-nuvk"
   },
   "outputs": [],
   "source": [
    "arr_1 = np.ones((4,3,5))\n",
    "arr_2 = np.ones((3,5))"
   ]
  },
  {
   "cell_type": "code",
   "execution_count": null,
   "metadata": {
    "id": "jBNPjK5gnyBF"
   },
   "outputs": [],
   "source": [
    "arr_1 = np.ones((4,3,5))\n",
    "arr_2 = np.ones((4,3))"
   ]
  },
  {
   "cell_type": "markdown",
   "metadata": {
    "id": "XHNc2woIoF4d"
   },
   "source": [
    "## Summary operations"
   ]
  },
  {
   "cell_type": "markdown",
   "metadata": {
    "id": "_X0AeYn3oF4f"
   },
   "source": [
    "Summary operations allow you to collapse an array according to a certain summary statistic. For instance, we may want to compute the overall mean firing rate in our experimental data:"
   ]
  },
  {
   "cell_type": "code",
   "execution_count": 89,
   "metadata": {},
   "outputs": [
    {
     "data": {
      "text/plain": [
       "array([[[[1.06735651e-01, 8.50013428e-01, 6.61261976e-02, ...,\n",
       "          1.22214287e+00, 1.85433810e+00, 2.97715561e-02],\n",
       "         [1.74584281e+00, 1.04634545e+00, 1.19461252e+00, ...,\n",
       "          3.86994751e-01, 1.46257796e-01, 5.57668861e-01],\n",
       "         [1.27660851e+00, 1.63782002e+00, 1.73077654e+00, ...,\n",
       "          2.69178437e-01, 8.87518742e-01, 4.97409664e-01],\n",
       "         ...,\n",
       "         [1.33977689e-01, 1.61987886e-01, 4.46480597e-01, ...,\n",
       "          4.39952432e-01, 6.42594250e-01, 1.23527806e+00],\n",
       "         [2.47564259e+00, 1.69413446e+00, 2.12417460e+00, ...,\n",
       "          2.61901093e+00, 3.11246504e+00, 1.92026681e+00],\n",
       "         [7.29644202e-01, 2.04679777e+00, 1.37959358e+00, ...,\n",
       "          1.74199210e+00, 2.11039000e+00, 8.98703266e-01]],\n",
       "\n",
       "        [[8.10785116e-01, 9.33062418e-01, 2.59379116e-01, ...,\n",
       "          1.31543734e+00, 1.29622586e+00, 1.23752785e+00],\n",
       "         [5.66745857e-01, 7.88732871e-01, 1.09353632e+00, ...,\n",
       "          4.95212124e-01, 2.18896547e-01, 5.55039361e-01],\n",
       "         [8.82901511e-01, 6.86934256e-01, 1.25065050e+00, ...,\n",
       "          9.04460497e-01, 4.60074219e-01, 4.38216968e-01],\n",
       "         ...,\n",
       "         [3.64492211e-02, 5.71047168e-01, 4.95341715e-01, ...,\n",
       "          5.94040232e-01, 2.81351456e-01, 1.92476435e-01],\n",
       "         [1.60489624e+00, 2.55631543e+00, 1.83915545e+00, ...,\n",
       "          1.86179063e+00, 2.80563694e+00, 2.79426859e+00],\n",
       "         [9.75789829e-01, 8.10281871e-01, 1.88447041e+00, ...,\n",
       "          1.57769368e+00, 1.54307961e+00, 6.51189685e-01]],\n",
       "\n",
       "        [[6.19660685e-01, 1.44403366e+00, 7.25177566e-01, ...,\n",
       "          6.20651303e-01, 1.42247153e+00, 7.29649784e-01],\n",
       "         [6.41739089e-01, 1.09248843e+00, 6.12499482e-01, ...,\n",
       "          3.01528474e-02, 8.91203448e-01, 5.17133740e-01],\n",
       "         [8.63585737e-01, 2.28749716e+00, 4.85666591e-01, ...,\n",
       "          6.21059372e-01, 1.59913527e+00, 1.92070807e-01],\n",
       "         ...,\n",
       "         [4.60671880e-02, 2.28272310e-01, 4.62451462e-01, ...,\n",
       "          7.30626059e-01, 2.28374302e-01, 8.20578498e-01],\n",
       "         [2.24037994e+00, 1.87346609e+00, 1.96502239e+00, ...,\n",
       "          2.30925982e+00, 2.73748694e+00, 3.56089223e+00],\n",
       "         [1.15148873e+00, 1.41458661e+00, 2.74988839e-01, ...,\n",
       "          1.69850755e+00, 2.54345670e+00, 9.57969052e-01]],\n",
       "\n",
       "        ...,\n",
       "\n",
       "        [[9.55497777e-01, 4.05692488e-01, 7.78823211e-01, ...,\n",
       "          4.43791258e-01, 6.87757573e-01, 5.78131601e-01],\n",
       "         [1.26663741e+00, 7.41565718e-01, 9.74565947e-01, ...,\n",
       "          2.15431443e-01, 9.24113093e-01, 8.74765901e-01],\n",
       "         [1.04496657e+00, 1.92493042e+00, 1.31607491e+00, ...,\n",
       "          6.98922972e-01, 8.95438625e-01, 1.10806420e+00],\n",
       "         ...,\n",
       "         [6.99654324e-01, 2.69282363e-01, 7.92850753e-01, ...,\n",
       "          5.35601623e-01, 4.40057071e-01, 7.04082232e-01],\n",
       "         [1.09871064e+00, 2.11750396e+00, 1.53713483e+00, ...,\n",
       "          2.86583586e+00, 3.47881123e+00, 3.05170785e+00],\n",
       "         [3.69099007e-01, 1.16270356e+00, 8.22229789e-01, ...,\n",
       "          2.00224509e+00, 1.19915351e+00, 1.22389634e+00]],\n",
       "\n",
       "        [[3.11573355e-01, 1.51960656e-01, 5.29449173e-01, ...,\n",
       "          6.33654814e-01, 3.12155650e-01, 1.01504149e+00],\n",
       "         [9.42519337e-01, 1.04800726e+00, 1.63077267e+00, ...,\n",
       "          4.79538390e-01, 1.03940589e-01, 9.05743971e-02],\n",
       "         [1.19313923e+00, 1.22524628e+00, 3.62692199e-01, ...,\n",
       "          6.16737539e-01, 8.57896422e-01, 5.95661545e-01],\n",
       "         ...,\n",
       "         [8.41454520e-01, 8.82117892e-01, 4.65736573e-01, ...,\n",
       "          1.03254191e-01, 4.11728563e-01, 1.06655410e+00],\n",
       "         [2.15288862e+00, 2.61116280e+00, 1.23073274e+00, ...,\n",
       "          3.14561085e+00, 2.54466767e+00, 2.29104980e+00],\n",
       "         [9.32792623e-01, 4.64622171e-02, 1.31732630e-02, ...,\n",
       "          5.72939548e-01, 1.47857618e+00, 1.61403092e+00]],\n",
       "\n",
       "        [[2.96414144e-01, 4.74658017e-01, 4.86034112e-01, ...,\n",
       "          1.24119716e+00, 1.02560792e+00, 6.99381685e-02],\n",
       "         [2.45578871e-01, 9.72493408e-01, 6.85815899e-01, ...,\n",
       "          1.21941180e+00, 3.94689580e-02, 1.06002195e+00],\n",
       "         [1.06888772e+00, 1.03998709e+00, 5.94912554e-01, ...,\n",
       "          5.40154953e-01, 1.23705182e+00, 9.19751909e-01],\n",
       "         ...,\n",
       "         [1.22671728e-01, 1.13569313e+00, 3.96736647e-01, ...,\n",
       "          7.08612961e-01, 3.40179265e-01, 2.84325578e-01],\n",
       "         [2.68919282e+00, 1.62010451e+00, 2.16018710e+00, ...,\n",
       "          2.26321643e+00, 2.73687475e+00, 2.97793205e+00],\n",
       "         [1.21707154e+00, 9.93321595e-01, 4.62796380e-01, ...,\n",
       "          9.32653283e-01, 1.49190891e+00, 3.85913177e-01]]],\n",
       "\n",
       "\n",
       "       [[[2.68590510e-01, 2.30938942e-01, 1.11291647e-01, ...,\n",
       "          1.00705680e+00, 8.70754882e-02, 1.14350863e+00],\n",
       "         [5.82279235e-02, 1.10962135e+00, 8.51835813e-02, ...,\n",
       "          1.03139505e+00, 1.63482156e+00, 1.11174878e+00],\n",
       "         [9.06890013e-01, 5.50327346e-02, 7.62236843e-01, ...,\n",
       "          9.21268222e-01, 1.90022263e+00, 6.61490516e-01],\n",
       "         ...,\n",
       "         [1.51639677e+00, 1.10525057e+00, 1.28482807e+00, ...,\n",
       "          2.57239506e-01, 9.24481867e-01, 3.92576453e-02],\n",
       "         [2.49070708e-01, 3.90644969e-01, 5.20414552e-01, ...,\n",
       "          1.86726568e+00, 1.27748159e+00, 2.17643888e+00],\n",
       "         [5.91814935e-01, 5.71087254e-01, 1.09062933e-02, ...,\n",
       "          1.46242912e+00, 1.80839002e+00, 2.04738543e+00]],\n",
       "\n",
       "        [[1.73767085e-01, 7.40042900e-01, 2.78446025e-01, ...,\n",
       "          1.05837816e+00, 6.77328273e-01, 1.56612974e-01],\n",
       "         [9.00464475e-01, 4.02457504e-01, 7.61508157e-03, ...,\n",
       "          1.72340487e+00, 1.13894979e+00, 2.29214611e+00],\n",
       "         [6.22657174e-01, 7.83905709e-01, 8.40142591e-01, ...,\n",
       "          7.31516128e-01, 1.16098239e+00, 1.26106802e+00],\n",
       "         ...,\n",
       "         [1.19639785e+00, 1.13828750e+00, 5.03092750e-01, ...,\n",
       "          7.87866766e-01, 8.79654787e-02, 1.05014270e+00],\n",
       "         [1.41931227e-02, 5.11258092e-01, 9.59940873e-01, ...,\n",
       "          2.10131355e+00, 1.39674810e+00, 2.33855928e-01],\n",
       "         [3.66130233e-01, 3.83575134e-01, 6.45087951e-03, ...,\n",
       "          1.18159572e+00, 1.78534702e+00, 1.58225156e+00]],\n",
       "\n",
       "        [[2.41820446e-01, 3.52803298e-02, 1.20200093e-03, ...,\n",
       "          8.19777414e-01, 1.34275979e+00, 8.63953320e-01],\n",
       "         [4.75097949e-01, 2.49925250e-03, 3.08800337e-01, ...,\n",
       "          1.75929246e+00, 1.70480331e+00, 1.48698006e+00],\n",
       "         [3.08906827e-01, 1.40189675e+00, 5.56131336e-01, ...,\n",
       "          8.94208173e-01, 1.05542192e+00, 3.34738546e-01],\n",
       "         ...,\n",
       "         [2.15352371e-03, 2.73432330e-01, 1.90495544e+00, ...,\n",
       "          1.92779139e-01, 3.98954724e-02, 2.05587640e-01],\n",
       "         [1.13341007e+00, 2.87188417e-01, 4.30871198e-01, ...,\n",
       "          2.07637850e+00, 7.41662224e-01, 1.68583189e+00],\n",
       "         [1.78180596e-01, 3.84837698e-01, 9.15624497e-01, ...,\n",
       "          1.23203150e+00, 1.70276245e+00, 9.83095823e-01]],\n",
       "\n",
       "        ...,\n",
       "\n",
       "        [[3.89569636e-01, 3.00873087e-01, 8.53431463e-01, ...,\n",
       "          8.57013324e-01, 1.36369225e-01, 1.24087619e+00],\n",
       "         [4.94280241e-01, 1.35443235e+00, 6.47102117e-01, ...,\n",
       "          1.73071092e+00, 2.22327083e+00, 1.01799698e+00],\n",
       "         [6.20263170e-01, 5.16823971e-02, 5.67631195e-01, ...,\n",
       "          1.13434223e+00, 8.27817128e-01, 1.21729685e+00],\n",
       "         ...,\n",
       "         [9.05518098e-02, 3.56601848e-01, 2.07102034e-01, ...,\n",
       "          2.49315189e-01, 2.99937713e-02, 4.06374492e-01],\n",
       "         [3.42784070e-01, 1.39300508e-01, 6.37277558e-01, ...,\n",
       "          2.44155474e+00, 1.60648029e+00, 1.95879900e+00],\n",
       "         [2.66383952e-01, 4.71412418e-01, 1.08164395e+00, ...,\n",
       "          1.34015508e+00, 1.23020243e+00, 4.83622781e-01]],\n",
       "\n",
       "        [[3.18500532e-01, 7.61512701e-01, 3.59804518e-02, ...,\n",
       "          1.04317196e+00, 9.51594822e-01, 8.51702697e-01],\n",
       "         [9.93859542e-01, 1.46168081e-02, 6.46023896e-01, ...,\n",
       "          1.30609822e+00, 9.07064384e-01, 1.37250174e+00],\n",
       "         [3.08291439e-01, 5.13287435e-01, 1.01602336e+00, ...,\n",
       "          2.24185820e-01, 1.59357335e+00, 1.23510383e-01],\n",
       "         ...,\n",
       "         [5.67971125e-01, 1.50062345e-01, 1.15136120e+00, ...,\n",
       "          4.40309528e-01, 6.10097909e-01, 7.99559953e-01],\n",
       "         [2.25445960e-01, 8.83610274e-01, 1.55805912e+00, ...,\n",
       "          1.05116421e+00, 9.41952733e-01, 1.89087367e+00],\n",
       "         [1.18310557e-01, 2.16328004e-01, 1.07968756e+00, ...,\n",
       "          1.25095419e+00, 1.82909596e+00, 7.46485745e-01]],\n",
       "\n",
       "        [[1.86327569e-01, 2.63246494e-01, 3.07718076e-01, ...,\n",
       "          5.22190908e-01, 1.57517315e+00, 1.66238001e+00],\n",
       "         [5.29740374e-02, 3.03094705e-01, 1.32193253e+00, ...,\n",
       "          1.23435937e+00, 1.46987233e+00, 1.06123960e+00],\n",
       "         [1.46604943e+00, 1.65469474e-01, 4.96193813e-02, ...,\n",
       "          1.82780350e-01, 8.56451472e-01, 3.59988247e-02],\n",
       "         ...,\n",
       "         [3.99149975e-01, 4.90485926e-01, 4.09535316e-01, ...,\n",
       "          4.85705593e-01, 4.49961421e-02, 8.23051290e-01],\n",
       "         [2.79906538e-01, 1.79062163e-01, 1.50349452e+00, ...,\n",
       "          2.17916225e+00, 1.19628134e+00, 1.42535435e+00],\n",
       "         [5.09200681e-01, 1.04974800e+00, 7.44586694e-02, ...,\n",
       "          2.55449767e+00, 2.08818279e+00, 1.34984776e+00]]]])"
      ]
     },
     "execution_count": 89,
     "metadata": {},
     "output_type": "execute_result"
    }
   ],
   "source": [
    "arr"
   ]
  },
  {
   "cell_type": "code",
   "execution_count": 90,
   "metadata": {
    "colab": {
     "base_uri": "https://localhost:8080/"
    },
    "id": "4U_ibaS2oJCJ",
    "outputId": "94cae975-451f-4fc5-f79a-cfb508c2d26a"
   },
   "outputs": [
    {
     "data": {
      "text/plain": [
       "0.8717270073789571"
      ]
     },
     "execution_count": 90,
     "metadata": {},
     "output_type": "execute_result"
    }
   ],
   "source": [
    "arr.mean()"
   ]
  },
  {
   "cell_type": "markdown",
   "metadata": {
    "id": "f9-MA21KoRl2"
   },
   "source": [
    "You can also specify the axis along we want to average. For instance, maybe we want to average firing rates across individual trials:"
   ]
  },
  {
   "cell_type": "code",
   "execution_count": 91,
   "metadata": {
    "colab": {
     "base_uri": "https://localhost:8080/"
    },
    "id": "t1gvQ6QUoYPk",
    "outputId": "18533a22-4ca6-4e32-943a-da6244f47432"
   },
   "outputs": [
    {
     "data": {
      "text/plain": [
       "(2, 10, 50, 2000)"
      ]
     },
     "execution_count": 91,
     "metadata": {},
     "output_type": "execute_result"
    }
   ],
   "source": [
    "arr.shape"
   ]
  },
  {
   "cell_type": "code",
   "execution_count": 92,
   "metadata": {
    "id": "HfVJ_KpwoYz_"
   },
   "outputs": [],
   "source": [
    "arr_across_trials = arr.mean(axis=1)"
   ]
  },
  {
   "cell_type": "code",
   "execution_count": 93,
   "metadata": {
    "colab": {
     "base_uri": "https://localhost:8080/"
    },
    "id": "0HsGHmTAocjO",
    "outputId": "0abcd664-a8ae-4e8c-cbfb-dc2a39d94833"
   },
   "outputs": [
    {
     "data": {
      "text/plain": [
       "(2, 50, 2000)"
      ]
     },
     "execution_count": 93,
     "metadata": {},
     "output_type": "execute_result"
    }
   ],
   "source": [
    "arr_across_trials.shape"
   ]
  },
  {
   "cell_type": "markdown",
   "metadata": {
    "id": "MUVYhRhlpkki"
   },
   "source": [
    "The `keepdims` argument means that you don't remove the dimensions you're averaging over, but rather set their length to 1:"
   ]
  },
  {
   "cell_type": "code",
   "execution_count": 94,
   "metadata": {
    "id": "npaRvYsIpijK"
   },
   "outputs": [],
   "source": [
    "arr_across_trials = arr.mean(axis=1, keepdims=True)"
   ]
  },
  {
   "cell_type": "code",
   "execution_count": 95,
   "metadata": {
    "colab": {
     "base_uri": "https://localhost:8080/"
    },
    "id": "aPIylJSUp2hF",
    "outputId": "61fe4319-1248-4d08-aea0-5a638939d600"
   },
   "outputs": [
    {
     "data": {
      "text/plain": [
       "(2, 1, 50, 2000)"
      ]
     },
     "execution_count": 95,
     "metadata": {},
     "output_type": "execute_result"
    }
   ],
   "source": [
    "arr_across_trials.shape"
   ]
  },
  {
   "cell_type": "markdown",
   "metadata": {
    "id": "PAQEXyjdokWV"
   },
   "source": [
    "You can average across multiple axes as well. For instance, maybe you want to average across both trials and time:"
   ]
  },
  {
   "cell_type": "code",
   "execution_count": 96,
   "metadata": {
    "id": "b-x8H3Aiojvs"
   },
   "outputs": [],
   "source": [
    "arr_across_trials_and_time = arr.mean(axis=(1,3))"
   ]
  },
  {
   "cell_type": "code",
   "execution_count": 97,
   "metadata": {
    "colab": {
     "base_uri": "https://localhost:8080/"
    },
    "id": "CN2sn16wpY3X",
    "outputId": "5ba79611-6f89-4728-c540-6d927702b79b"
   },
   "outputs": [
    {
     "data": {
      "text/plain": [
       "(2, 50)"
      ]
     },
     "execution_count": 97,
     "metadata": {},
     "output_type": "execute_result"
    }
   ],
   "source": [
    "arr_across_trials_and_time.shape"
   ]
  },
  {
   "cell_type": "markdown",
   "metadata": {
    "id": "D7CT8DwVp5SY"
   },
   "source": [
    "### Question 3\n",
    "\n",
    "- What is the average firing rate across all neurons, times, and trials for each condition?\n",
    "- (Advanced.) Subtract the average firing rate per time across all neurons, trials, and conditions from the original array."
   ]
  },
  {
   "cell_type": "code",
   "execution_count": 105,
   "metadata": {},
   "outputs": [
    {
     "data": {
      "text/plain": [
       "array([[[[0.98828779]]],\n",
       "\n",
       "\n",
       "       [[[0.75516623]]]])"
      ]
     },
     "execution_count": 105,
     "metadata": {},
     "output_type": "execute_result"
    }
   ],
   "source": [
    "finalmean=arr.mean(axis=(1,2,3),keepdims=True)\n",
    "finalmean"
   ]
  },
  {
   "cell_type": "code",
   "execution_count": 104,
   "metadata": {},
   "outputs": [
    {
     "data": {
      "text/plain": [
       "array([[[[-0.88155214, -0.13827436, -0.92216159, ...,  0.23385509,\n",
       "           0.86605031, -0.95851623],\n",
       "         [ 0.75755503,  0.05805767,  0.20632473, ..., -0.60129303,\n",
       "          -0.84202999, -0.43061892],\n",
       "         [ 0.28832073,  0.64953224,  0.74248875, ..., -0.71910935,\n",
       "          -0.10076904, -0.49087812],\n",
       "         ...,\n",
       "         [-0.8543101 , -0.8262999 , -0.54180719, ..., -0.54833535,\n",
       "          -0.34569354,  0.24699028],\n",
       "         [ 1.4873548 ,  0.70584668,  1.13588681, ...,  1.63072314,\n",
       "           2.12417725,  0.93197903],\n",
       "         [-0.25864358,  1.05850998,  0.39130579, ...,  0.75370431,\n",
       "           1.12210222, -0.08958452]],\n",
       "\n",
       "        [[-0.17750267, -0.05522537, -0.72890867, ...,  0.32714956,\n",
       "           0.30793807,  0.24924006],\n",
       "         [-0.42154193, -0.19955491,  0.10524853, ..., -0.49307566,\n",
       "          -0.76939124, -0.43324843],\n",
       "         [-0.10538628, -0.30135353,  0.26236271, ..., -0.08382729,\n",
       "          -0.52821357, -0.55007082],\n",
       "         ...,\n",
       "         [-0.95183856, -0.41724062, -0.49294607, ..., -0.39424755,\n",
       "          -0.70693633, -0.79581135],\n",
       "         [ 0.61660845,  1.56802765,  0.85086766, ...,  0.87350284,\n",
       "           1.81734915,  1.8059808 ],\n",
       "         [-0.01249796, -0.17800592,  0.89618262, ...,  0.5894059 ,\n",
       "           0.55479183, -0.3370981 ]],\n",
       "\n",
       "        [[-0.3686271 ,  0.45574587, -0.26311022, ..., -0.36763648,\n",
       "           0.43418374, -0.258638  ],\n",
       "         [-0.3465487 ,  0.10420064, -0.3757883 , ..., -0.95813494,\n",
       "          -0.09708434, -0.47115405],\n",
       "         [-0.12470205,  1.29920938, -0.5026212 , ..., -0.36722841,\n",
       "           0.61084748, -0.79621698],\n",
       "         ...,\n",
       "         [-0.9422206 , -0.76001548, -0.52583632, ..., -0.25766173,\n",
       "          -0.75991348, -0.16770929],\n",
       "         [ 1.25209215,  0.8851783 ,  0.9767346 , ...,  1.32097203,\n",
       "           1.74919916,  2.57260445],\n",
       "         [ 0.16320094,  0.42629883, -0.71329895, ...,  0.71021976,\n",
       "           1.55516891, -0.03031873]],\n",
       "\n",
       "        ...,\n",
       "\n",
       "        [[-0.03279001, -0.5825953 , -0.20946457, ..., -0.54449653,\n",
       "          -0.30053021, -0.41015619],\n",
       "         [ 0.27834963, -0.24672207, -0.01372184, ..., -0.77285634,\n",
       "          -0.06417469, -0.11352188],\n",
       "         [ 0.05667878,  0.93664263,  0.32778713, ..., -0.28936481,\n",
       "          -0.09284916,  0.11977642],\n",
       "         ...,\n",
       "         [-0.28863346, -0.71900542, -0.19543703, ..., -0.45268616,\n",
       "          -0.54823072, -0.28420555],\n",
       "         [ 0.11042285,  1.12921617,  0.54884704, ...,  1.87754808,\n",
       "           2.49052345,  2.06342006],\n",
       "         [-0.61918878,  0.17441577, -0.166058  , ...,  1.0139573 ,\n",
       "           0.21086572,  0.23560855]],\n",
       "\n",
       "        [[-0.67671443, -0.83632713, -0.45883861, ..., -0.35463297,\n",
       "          -0.67613214,  0.02675371],\n",
       "         [-0.04576845,  0.05971948,  0.64248488, ..., -0.5087494 ,\n",
       "          -0.8843472 , -0.89771339],\n",
       "         [ 0.20485144,  0.23695849, -0.62559559, ..., -0.37155025,\n",
       "          -0.13039136, -0.39262624],\n",
       "         ...,\n",
       "         [-0.14683327, -0.10616989, -0.52255121, ..., -0.8850336 ,\n",
       "          -0.57655922,  0.07826631],\n",
       "         [ 1.16460084,  1.62287502,  0.24244495, ...,  2.15732307,\n",
       "           1.55637989,  1.30276201],\n",
       "         [-0.05549516, -0.94182557, -0.97511452, ..., -0.41534824,\n",
       "           0.49028839,  0.62574313]],\n",
       "\n",
       "        [[-0.69187364, -0.51362977, -0.50225367, ...,  0.25290938,\n",
       "           0.03732013, -0.91834962],\n",
       "         [-0.74270892, -0.01579438, -0.30247189, ...,  0.23112402,\n",
       "          -0.94881883,  0.07173417],\n",
       "         [ 0.08059993,  0.0516993 , -0.39337523, ..., -0.44813283,\n",
       "           0.24876403, -0.06853588],\n",
       "         ...,\n",
       "         [-0.86561606,  0.14740535, -0.59155114, ..., -0.27967483,\n",
       "          -0.64810852, -0.70396221],\n",
       "         [ 1.70090503,  0.63181672,  1.17189931, ...,  1.27492864,\n",
       "           1.74858696,  1.98964427],\n",
       "         [ 0.22878375,  0.00503381, -0.52549141, ..., -0.0556345 ,\n",
       "           0.50362113, -0.60237461]]],\n",
       "\n",
       "\n",
       "       [[[-0.48657572, -0.52422729, -0.64387458, ...,  0.25189057,\n",
       "          -0.66809074,  0.3883424 ],\n",
       "         [-0.69693831,  0.35445512, -0.66998265, ...,  0.27622882,\n",
       "           0.87965534,  0.35658255],\n",
       "         [ 0.15172378, -0.70013349,  0.00707061, ...,  0.16610199,\n",
       "           1.1450564 , -0.09367571],\n",
       "         ...,\n",
       "         [ 0.76123054,  0.35008434,  0.52966184, ..., -0.49792672,\n",
       "           0.16931564, -0.71590858],\n",
       "         [-0.50609552, -0.36452126, -0.23475168, ...,  1.11209946,\n",
       "           0.52231536,  1.42127265],\n",
       "         [-0.16335129, -0.18407897, -0.74425994, ...,  0.70726289,\n",
       "           1.05322379,  1.2922192 ]],\n",
       "\n",
       "        [[-0.58139914, -0.01512333, -0.4767202 , ...,  0.30321193,\n",
       "          -0.07783796, -0.59855325],\n",
       "         [ 0.14529825, -0.35270872, -0.74755115, ...,  0.96823865,\n",
       "           0.38378356,  1.53697988],\n",
       "         [-0.13250906,  0.02873948,  0.08497636, ..., -0.0236501 ,\n",
       "           0.40581617,  0.50590179],\n",
       "         ...,\n",
       "         [ 0.44123163,  0.38312127, -0.25207348, ...,  0.03270054,\n",
       "          -0.66720075,  0.29497648],\n",
       "         [-0.74097311, -0.24390814,  0.20477464, ...,  1.34614732,\n",
       "           0.64158187, -0.5213103 ],\n",
       "         [-0.389036  , -0.3715911 , -0.74871535, ...,  0.42642949,\n",
       "           1.03018079,  0.82708533]],\n",
       "\n",
       "        [[-0.51334578, -0.7198859 , -0.75396423, ...,  0.06461119,\n",
       "           0.58759357,  0.10878709],\n",
       "         [-0.28006828, -0.75266698, -0.44636589, ...,  1.00412623,\n",
       "           0.94963708,  0.73181383],\n",
       "         [-0.4462594 ,  0.64673052, -0.19903489, ...,  0.13904194,\n",
       "           0.30025569, -0.42042768],\n",
       "         ...,\n",
       "         [-0.75301271, -0.4817339 ,  1.14978921, ..., -0.56238709,\n",
       "          -0.71527076, -0.54957859],\n",
       "         [ 0.37824384, -0.46797781, -0.32429503, ...,  1.32121227,\n",
       "          -0.013504  ,  0.93066566],\n",
       "         [-0.57698563, -0.37032853,  0.16045827, ...,  0.47686528,\n",
       "           0.94759623,  0.22792959]],\n",
       "\n",
       "        ...,\n",
       "\n",
       "        [[-0.36559659, -0.45429314,  0.09826523, ...,  0.1018471 ,\n",
       "          -0.618797  ,  0.48570996],\n",
       "         [-0.26088599,  0.59926612, -0.10806411, ...,  0.97554469,\n",
       "           1.4681046 ,  0.26283075],\n",
       "         [-0.13490306, -0.70348383, -0.18753503, ...,  0.379176  ,\n",
       "           0.0726509 ,  0.46213062],\n",
       "         ...,\n",
       "         [-0.66461442, -0.39856438, -0.54806419, ..., -0.50585104,\n",
       "          -0.72517246, -0.34879174],\n",
       "         [-0.41238216, -0.61586572, -0.11788867, ...,  1.68638851,\n",
       "           0.85131406,  1.20363277],\n",
       "         [-0.48878228, -0.28375381,  0.32647772, ...,  0.58498885,\n",
       "           0.4750362 , -0.27154345]],\n",
       "\n",
       "        [[-0.4366657 ,  0.00634647, -0.71918578, ...,  0.28800573,\n",
       "           0.19642859,  0.09653647],\n",
       "         [ 0.23869331, -0.74054942, -0.10914233, ...,  0.55093199,\n",
       "           0.15189815,  0.61733551],\n",
       "         [-0.44687479, -0.24187879,  0.26085713, ..., -0.53098041,\n",
       "           0.83840712, -0.63165585],\n",
       "         ...,\n",
       "         [-0.1871951 , -0.60510388,  0.39619497, ..., -0.3148567 ,\n",
       "          -0.14506832,  0.04439372],\n",
       "         [-0.52972027,  0.12844405,  0.80289289, ...,  0.29599798,\n",
       "           0.1867865 ,  1.13570744],\n",
       "         [-0.63685567, -0.53883822,  0.32452134, ...,  0.49578796,\n",
       "           1.07392974, -0.00868048]],\n",
       "\n",
       "        [[-0.56883866, -0.49191973, -0.44744815, ..., -0.23297532,\n",
       "           0.82000692,  0.90721378],\n",
       "         [-0.70219219, -0.45207152,  0.5667663 , ...,  0.47919314,\n",
       "           0.7147061 ,  0.30607337],\n",
       "         [ 0.7108832 , -0.58969675, -0.70554685, ..., -0.57238588,\n",
       "           0.10128524, -0.7191674 ],\n",
       "         ...,\n",
       "         [-0.35601625, -0.2646803 , -0.34563091, ..., -0.26946064,\n",
       "          -0.71017009,  0.06788506],\n",
       "         [-0.47525969, -0.57610407,  0.74832829, ...,  1.42399603,\n",
       "           0.44111512,  0.67018812],\n",
       "         [-0.24596555,  0.29458177, -0.68070756, ...,  1.79933144,\n",
       "           1.33301657,  0.59468153]]]])"
      ]
     },
     "execution_count": 104,
     "metadata": {},
     "output_type": "execute_result"
    }
   ],
   "source": [
    "arr-finalmean"
   ]
  },
  {
   "cell_type": "markdown",
   "metadata": {
    "id": "LdgHsGL8uPJe"
   },
   "source": [
    "## Indexing"
   ]
  },
  {
   "cell_type": "markdown",
   "metadata": {
    "id": "sKsm931VIZJW"
   },
   "source": [
    "Indexing in vectors works just as in lists:"
   ]
  },
  {
   "cell_type": "code",
   "execution_count": 106,
   "metadata": {
    "colab": {
     "base_uri": "https://localhost:8080/"
    },
    "id": "V5-v-1yJ4rT3",
    "outputId": "b80b51bd-a80a-4048-fe69-1f960ece5a7d"
   },
   "outputs": [
    {
     "data": {
      "text/plain": [
       "array([25, 20, 40,  5])"
      ]
     },
     "execution_count": 106,
     "metadata": {},
     "output_type": "execute_result"
    }
   ],
   "source": [
    "vec_1"
   ]
  },
  {
   "cell_type": "code",
   "execution_count": 107,
   "metadata": {
    "colab": {
     "base_uri": "https://localhost:8080/"
    },
    "id": "eIEWdFR84sO5",
    "outputId": "10801a3b-cc20-4415-af5a-d1b3b1f63a02"
   },
   "outputs": [
    {
     "data": {
      "text/plain": [
       "25"
      ]
     },
     "execution_count": 107,
     "metadata": {},
     "output_type": "execute_result"
    }
   ],
   "source": [
    "vec_1[0]"
   ]
  },
  {
   "cell_type": "markdown",
   "metadata": {
    "id": "PPbsSdmiInSS"
   },
   "source": [
    "For matrices and higher-dimensional arrays, a single index selects a single row:"
   ]
  },
  {
   "cell_type": "code",
   "execution_count": 108,
   "metadata": {
    "colab": {
     "base_uri": "https://localhost:8080/"
    },
    "id": "qkstcucC4v1X",
    "outputId": "d806a453-86d7-44a2-9052-25284761ea9a"
   },
   "outputs": [
    {
     "data": {
      "text/plain": [
       "array([[1, 2],\n",
       "       [3, 4],\n",
       "       [5, 6]])"
      ]
     },
     "execution_count": 108,
     "metadata": {},
     "output_type": "execute_result"
    }
   ],
   "source": [
    "mat_1"
   ]
  },
  {
   "cell_type": "code",
   "execution_count": 109,
   "metadata": {
    "colab": {
     "base_uri": "https://localhost:8080/"
    },
    "id": "QA_-MxKyqxAF",
    "outputId": "040551f6-a86f-42ef-ef4b-b38651e17c60"
   },
   "outputs": [
    {
     "data": {
      "text/plain": [
       "array([1, 2])"
      ]
     },
     "execution_count": 109,
     "metadata": {},
     "output_type": "execute_result"
    }
   ],
   "source": [
    "mat_1[0]"
   ]
  },
  {
   "cell_type": "code",
   "execution_count": 110,
   "metadata": {
    "colab": {
     "base_uri": "https://localhost:8080/"
    },
    "id": "1QEO6aFDtOnN",
    "outputId": "e81f8ab1-b849-4185-97b5-40869f0fc5ab"
   },
   "outputs": [
    {
     "data": {
      "text/plain": [
       "2"
      ]
     },
     "execution_count": 110,
     "metadata": {},
     "output_type": "execute_result"
    }
   ],
   "source": [
    "mat_1[0][1]"
   ]
  },
  {
   "cell_type": "markdown",
   "metadata": {
    "id": "UgApyUCXIu3B"
   },
   "source": [
    "Instead of using two brackets, you can also separate the row and column index by a comma:"
   ]
  },
  {
   "cell_type": "code",
   "execution_count": 111,
   "metadata": {
    "colab": {
     "base_uri": "https://localhost:8080/"
    },
    "id": "9nTJdwrQI0Wy",
    "outputId": "b2f058f2-d9b8-4138-c3ea-564413d85d9e"
   },
   "outputs": [
    {
     "name": "stdout",
     "output_type": "stream",
     "text": [
      "1\n",
      "1\n"
     ]
    }
   ],
   "source": [
    "# The following two lines of code are equivalent\n",
    "print(mat_1[0][0])\n",
    "print(mat_1[0,0])"
   ]
  },
  {
   "cell_type": "markdown",
   "metadata": {
    "id": "UzUXMPzYJFBZ"
   },
   "source": [
    "### Slicing"
   ]
  },
  {
   "cell_type": "markdown",
   "metadata": {
    "id": "Y7PMotYdJH0F"
   },
   "source": [
    "Slicing is a useful way of extracting more than one element. In particular, `j:k` extracts the elements j,...,k-1:"
   ]
  },
  {
   "cell_type": "code",
   "execution_count": 112,
   "metadata": {
    "colab": {
     "base_uri": "https://localhost:8080/"
    },
    "id": "j2HmNafso_i4",
    "outputId": "31d9e0da-165c-441e-b618-933aa8c5538a"
   },
   "outputs": [
    {
     "name": "stdout",
     "output_type": "stream",
     "text": [
      "[0 1 2 3 4 5 6 7 8 9]\n"
     ]
    }
   ],
   "source": [
    "vec = np.arange(10)\n",
    "print(vec)"
   ]
  },
  {
   "cell_type": "code",
   "execution_count": 113,
   "metadata": {
    "colab": {
     "base_uri": "https://localhost:8080/"
    },
    "id": "Bo-lVYvaJULH",
    "outputId": "e726093a-8439-4745-8a35-1d06277e94ba"
   },
   "outputs": [
    {
     "data": {
      "text/plain": [
       "array([3, 4, 5, 6])"
      ]
     },
     "execution_count": 113,
     "metadata": {},
     "output_type": "execute_result"
    }
   ],
   "source": [
    "vec[3:7]"
   ]
  },
  {
   "cell_type": "markdown",
   "metadata": {
    "id": "KGYH6PlTJXUa"
   },
   "source": [
    "We can leave either end of the range away and it will default to the beginning and the end of the list, respectively."
   ]
  },
  {
   "cell_type": "code",
   "execution_count": 114,
   "metadata": {
    "colab": {
     "base_uri": "https://localhost:8080/"
    },
    "id": "KCYXfjBOJWrO",
    "outputId": "dd551c56-c670-4a41-efcb-f106115fdc96"
   },
   "outputs": [
    {
     "data": {
      "text/plain": [
       "array([0, 1, 2, 3, 4, 5, 6])"
      ]
     },
     "execution_count": 114,
     "metadata": {},
     "output_type": "execute_result"
    }
   ],
   "source": [
    "vec[:7]"
   ]
  },
  {
   "cell_type": "code",
   "execution_count": 115,
   "metadata": {
    "colab": {
     "base_uri": "https://localhost:8080/"
    },
    "id": "BCLi7iPsourR",
    "outputId": "866a70fe-a4d5-4f96-ccad-915bb543a8cd"
   },
   "outputs": [
    {
     "data": {
      "text/plain": [
       "array([3, 4, 5, 6, 7, 8, 9])"
      ]
     },
     "execution_count": 115,
     "metadata": {},
     "output_type": "execute_result"
    }
   ],
   "source": [
    "vec[3:]"
   ]
  },
  {
   "cell_type": "code",
   "execution_count": 116,
   "metadata": {
    "colab": {
     "base_uri": "https://localhost:8080/"
    },
    "id": "sCtRzOkxpvtF",
    "outputId": "4a3d6db2-056e-47b6-8550-8ca9b1447117"
   },
   "outputs": [
    {
     "data": {
      "text/plain": [
       "array([0, 1, 2, 3, 4, 5, 6, 7, 8, 9])"
      ]
     },
     "execution_count": 116,
     "metadata": {},
     "output_type": "execute_result"
    }
   ],
   "source": [
    "vec[:] # What do you think this will do?"
   ]
  },
  {
   "cell_type": "markdown",
   "metadata": {
    "id": "oSg-s95Vp_6M"
   },
   "source": [
    "You can therefore also use the colon to select all rows of a matrix and specific columns."
   ]
  },
  {
   "cell_type": "code",
   "execution_count": 117,
   "metadata": {
    "colab": {
     "base_uri": "https://localhost:8080/"
    },
    "id": "PfObJZyVqVkN",
    "outputId": "5af2c7ea-d83b-4f71-b84d-301101f9055f"
   },
   "outputs": [
    {
     "data": {
      "text/plain": [
       "array([[1, 2],\n",
       "       [3, 4],\n",
       "       [5, 6]])"
      ]
     },
     "execution_count": 117,
     "metadata": {},
     "output_type": "execute_result"
    }
   ],
   "source": [
    "mat_1"
   ]
  },
  {
   "cell_type": "code",
   "execution_count": 118,
   "metadata": {
    "colab": {
     "base_uri": "https://localhost:8080/"
    },
    "id": "3HqeoHnTp-bF",
    "outputId": "205a7ce1-9d1c-4a9e-9dbc-fb72807e093c"
   },
   "outputs": [
    {
     "data": {
      "text/plain": [
       "array([1, 3, 5])"
      ]
     },
     "execution_count": 118,
     "metadata": {},
     "output_type": "execute_result"
    }
   ],
   "source": [
    "mat_1[:,0]"
   ]
  },
  {
   "cell_type": "markdown",
   "metadata": {
    "id": "A84qrlXAqg7c"
   },
   "source": [
    "You can add another colon to specify a step size, similarly to how you would use these three arguments in `range`."
   ]
  },
  {
   "cell_type": "code",
   "execution_count": 119,
   "metadata": {
    "colab": {
     "base_uri": "https://localhost:8080/"
    },
    "id": "KhL-XFw5qf3v",
    "outputId": "22513912-b855-4256-8bf2-d2540f7ed749"
   },
   "outputs": [
    {
     "data": {
      "text/plain": [
       "array([3, 5])"
      ]
     },
     "execution_count": 119,
     "metadata": {},
     "output_type": "execute_result"
    }
   ],
   "source": [
    "vec[3:7:2]"
   ]
  },
  {
   "cell_type": "markdown",
   "metadata": {
    "id": "K6IFZsQkrX4p"
   },
   "source": [
    "We could still leave away the beginning or the end of the slice:"
   ]
  },
  {
   "cell_type": "code",
   "execution_count": 120,
   "metadata": {
    "colab": {
     "base_uri": "https://localhost:8080/"
    },
    "id": "D0CDln9nrXIg",
    "outputId": "c832b9be-87db-40d6-a67b-4997c7fc99bf"
   },
   "outputs": [
    {
     "data": {
      "text/plain": [
       "array([0, 2, 4, 6, 8])"
      ]
     },
     "execution_count": 120,
     "metadata": {},
     "output_type": "execute_result"
    }
   ],
   "source": [
    "vec[::2]"
   ]
  },
  {
   "cell_type": "markdown",
   "metadata": {
    "id": "9Gu8lNI_rS9Q"
   },
   "source": [
    "### Question 4\n",
    "Predict the output of the following commands:"
   ]
  },
  {
   "cell_type": "code",
   "execution_count": 121,
   "metadata": {
    "colab": {
     "base_uri": "https://localhost:8080/"
    },
    "id": "yNs8daxLri0i",
    "outputId": "0eab182b-5569-4623-f742-801dd789820a"
   },
   "outputs": [
    {
     "data": {
      "text/plain": [
       "array([0, 1, 2, 3])"
      ]
     },
     "execution_count": 121,
     "metadata": {},
     "output_type": "execute_result"
    }
   ],
   "source": [
    "vec[:4]"
   ]
  },
  {
   "cell_type": "code",
   "execution_count": 122,
   "metadata": {
    "colab": {
     "base_uri": "https://localhost:8080/"
    },
    "id": "-90xe62IrSPy",
    "outputId": "b87dc685-f2e8-4935-a80f-8178f296c191"
   },
   "outputs": [
    {
     "data": {
      "text/plain": [
       "array([5, 7])"
      ]
     },
     "execution_count": 122,
     "metadata": {},
     "output_type": "execute_result"
    }
   ],
   "source": [
    "vec[5:9:2]"
   ]
  },
  {
   "cell_type": "code",
   "execution_count": 123,
   "metadata": {
    "colab": {
     "base_uri": "https://localhost:8080/"
    },
    "id": "XZLdgm1CCwTf",
    "outputId": "f50c4c83-38aa-4e92-8da1-9a77157c83ca"
   },
   "outputs": [
    {
     "data": {
      "text/plain": [
       "array([0, 2, 4, 6])"
      ]
     },
     "execution_count": 123,
     "metadata": {},
     "output_type": "execute_result"
    }
   ],
   "source": [
    "vec[:7:2]"
   ]
  },
  {
   "cell_type": "code",
   "execution_count": 124,
   "metadata": {
    "colab": {
     "base_uri": "https://localhost:8080/"
    },
    "id": "7otovAU_rg9a",
    "outputId": "de6f80e6-cc3c-4e5c-faf6-96be2621a400"
   },
   "outputs": [
    {
     "data": {
      "text/plain": [
       "array([2, 4, 6, 8])"
      ]
     },
     "execution_count": 124,
     "metadata": {},
     "output_type": "execute_result"
    }
   ],
   "source": [
    "vec[2::2]"
   ]
  },
  {
   "cell_type": "markdown",
   "metadata": {
    "id": "XBw_AOc0rSyF"
   },
   "source": [
    "### Boolean indexing"
   ]
  },
  {
   "cell_type": "markdown",
   "metadata": {
    "id": "FG9TiQuZrVuU"
   },
   "source": [
    "Do you remember how to create an array that is true if and only if `vec` is smaller than 5?"
   ]
  },
  {
   "cell_type": "code",
   "execution_count": 125,
   "metadata": {
    "colab": {
     "base_uri": "https://localhost:8080/"
    },
    "id": "b8O9g9rT7v1J",
    "outputId": "d68634ac-49de-4cb1-b75e-0cfa357e858f"
   },
   "outputs": [
    {
     "data": {
      "text/plain": [
       "array([0, 1, 2, 3, 4, 5, 6, 7, 8, 9])"
      ]
     },
     "execution_count": 125,
     "metadata": {},
     "output_type": "execute_result"
    }
   ],
   "source": [
    "vec"
   ]
  },
  {
   "cell_type": "code",
   "execution_count": 126,
   "metadata": {
    "colab": {
     "base_uri": "https://localhost:8080/"
    },
    "id": "x9ZXEpI4rRwN",
    "outputId": "871f961d-8c80-480e-d72a-790d7b98f14c"
   },
   "outputs": [
    {
     "data": {
      "text/plain": [
       "array([ True,  True,  True,  True,  True,  True, False, False, False,\n",
       "       False])"
      ]
     },
     "execution_count": 126,
     "metadata": {},
     "output_type": "execute_result"
    }
   ],
   "source": [
    "selector = vec <= 5\n",
    "selector"
   ]
  },
  {
   "cell_type": "markdown",
   "metadata": {
    "id": "3FE2fc9Src2F"
   },
   "source": [
    "You can use these boolean arrays to subset the corresponding true values."
   ]
  },
  {
   "cell_type": "code",
   "execution_count": 127,
   "metadata": {
    "colab": {
     "base_uri": "https://localhost:8080/"
    },
    "id": "E_346Ach9Yc3",
    "outputId": "8387c004-114f-40a7-b29c-9dda5446f30a"
   },
   "outputs": [
    {
     "data": {
      "text/plain": [
       "array([0, 1, 2, 3, 4, 5, 6, 7, 8, 9])"
      ]
     },
     "execution_count": 127,
     "metadata": {},
     "output_type": "execute_result"
    }
   ],
   "source": [
    "vec"
   ]
  },
  {
   "cell_type": "code",
   "execution_count": 128,
   "metadata": {
    "colab": {
     "base_uri": "https://localhost:8080/"
    },
    "id": "__3rjtD4rcLE",
    "outputId": "91ef1550-ebe4-429d-c90b-c044c39c5b3a"
   },
   "outputs": [
    {
     "data": {
      "text/plain": [
       "array([0, 1, 2, 3, 4, 5])"
      ]
     },
     "execution_count": 128,
     "metadata": {},
     "output_type": "execute_result"
    }
   ],
   "source": [
    "vec[selector]"
   ]
  },
  {
   "cell_type": "code",
   "execution_count": 129,
   "metadata": {
    "colab": {
     "base_uri": "https://localhost:8080/"
    },
    "id": "obfmbaxk9i-a",
    "outputId": "91b80004-4b61-4468-ce78-ab68d6d21e70"
   },
   "outputs": [
    {
     "data": {
      "text/plain": [
       "array([0, 1, 2, 3, 4, 5])"
      ]
     },
     "execution_count": 129,
     "metadata": {},
     "output_type": "execute_result"
    }
   ],
   "source": [
    "vec[vec<=5]"
   ]
  },
  {
   "cell_type": "markdown",
   "metadata": {
    "id": "8MaLCKf9rktz"
   },
   "source": [
    "You can do the same with matrices:"
   ]
  },
  {
   "cell_type": "code",
   "execution_count": 133,
   "metadata": {
    "colab": {
     "base_uri": "https://localhost:8080/"
    },
    "id": "rlF_CayR9mFR",
    "outputId": "107d1bca-18b0-4d04-aff0-3ed4dc0c94a8"
   },
   "outputs": [
    {
     "data": {
      "text/plain": [
       "array([[1, 2],\n",
       "       [3, 4],\n",
       "       [5, 6]])"
      ]
     },
     "execution_count": 133,
     "metadata": {},
     "output_type": "execute_result"
    }
   ],
   "source": [
    "mat_1"
   ]
  },
  {
   "cell_type": "code",
   "execution_count": 136,
   "metadata": {
    "colab": {
     "base_uri": "https://localhost:8080/",
     "height": 167
    },
    "id": "EwzXKJemruRW",
    "outputId": "a88baf2e-4ca6-4c73-b9a5-1adab69e0a44"
   },
   "outputs": [
    {
     "data": {
      "text/plain": [
       "array([[False, False],\n",
       "       [ True,  True],\n",
       "       [ True,  True]])"
      ]
     },
     "execution_count": 136,
     "metadata": {},
     "output_type": "execute_result"
    }
   ],
   "source": [
    "mat_1 >= 3"
   ]
  },
  {
   "cell_type": "code",
   "execution_count": 137,
   "metadata": {
    "colab": {
     "base_uri": "https://localhost:8080/",
     "height": 167
    },
    "id": "Iuxu6VIkrj7b",
    "outputId": "46298763-2635-47b3-bab2-ab369488a23c"
   },
   "outputs": [
    {
     "data": {
      "text/plain": [
       "array([3, 4, 5, 6])"
      ]
     },
     "execution_count": 137,
     "metadata": {},
     "output_type": "execute_result"
    }
   ],
   "source": [
    "mat_1[mat_1 >= 3]"
   ]
  },
  {
   "cell_type": "code",
   "execution_count": 138,
   "metadata": {},
   "outputs": [],
   "source": [
    "str='abcdefg'"
   ]
  },
  {
   "cell_type": "code",
   "execution_count": 140,
   "metadata": {},
   "outputs": [
    {
     "data": {
      "text/plain": [
       "'cd'"
      ]
     },
     "execution_count": 140,
     "metadata": {},
     "output_type": "execute_result"
    }
   ],
   "source": [
    "str[2:4]"
   ]
  },
  {
   "cell_type": "markdown",
   "metadata": {
    "id": "Ei0wsNmortBZ"
   },
   "source": [
    "### Questions 5\n",
    "- Consider the example matrix from above and subset all entries with values between 0.4 and 0.8."
   ]
  }
 ],
 "metadata": {
  "colab": {
   "collapsed_sections": [],
   "provenance": [],
   "toc_visible": true
  },
  "kernelspec": {
   "display_name": "Python 3.10.4 ('intropython')",
   "language": "python",
   "name": "python3"
  },
  "language_info": {
   "codemirror_mode": {
    "name": "ipython",
    "version": 3
   },
   "file_extension": ".py",
   "mimetype": "text/x-python",
   "name": "python",
   "nbconvert_exporter": "python",
   "pygments_lexer": "ipython3",
   "version": "3.10.4"
  },
  "vscode": {
   "interpreter": {
    "hash": "8b7fb880d727246818f455a4ece7482e4185eb6bff9cf27371af6a43c6ace0ce"
   }
  }
 },
 "nbformat": 4,
 "nbformat_minor": 1
}
